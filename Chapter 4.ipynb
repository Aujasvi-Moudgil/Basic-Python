{
 "cells": [
  {
   "cell_type": "markdown",
   "metadata": {},
   "source": [
    "#  Functions"
   ]
  },
  {
   "cell_type": "code",
   "execution_count": 2,
   "metadata": {},
   "outputs": [],
   "source": [
    "## Function 1 - Create a function \n",
    "def helloworld():\n",
    "    print(\"Hello world\")"
   ]
  },
  {
   "cell_type": "code",
   "execution_count": 3,
   "metadata": {},
   "outputs": [
    {
     "name": "stdout",
     "output_type": "stream",
     "text": [
      "Hello world\n"
     ]
    }
   ],
   "source": [
    "# function call\n",
    "helloworld()"
   ]
  },
  {
   "cell_type": "code",
   "execution_count": 5,
   "metadata": {},
   "outputs": [
    {
     "name": "stdout",
     "output_type": "stream",
     "text": [
      "Hello  Eddy\n"
     ]
    }
   ],
   "source": [
    "## Function 2 - Create a function and pass input variable\n",
    "## pass variable to the function\n",
    "def hello(nm):\n",
    "    print(\"Hello \",nm)\n",
    "\n",
    "hello(\"Eddy\")"
   ]
  },
  {
   "cell_type": "code",
   "execution_count": 6,
   "metadata": {},
   "outputs": [],
   "source": [
    "## Function 3 - Create a function with return statement\n",
    "\n",
    "def add_fun(x,y):\n",
    "    z = x + y\n",
    "    return(z)"
   ]
  },
  {
   "cell_type": "code",
   "execution_count": 7,
   "metadata": {},
   "outputs": [
    {
     "data": {
      "text/plain": [
       "5"
      ]
     },
     "execution_count": 7,
     "metadata": {},
     "output_type": "execute_result"
    }
   ],
   "source": [
    "## Call the function to execute the function\n",
    "add_fun(2,3)"
   ]
  },
  {
   "cell_type": "code",
   "execution_count": 2,
   "metadata": {},
   "outputs": [],
   "source": [
    "## Function 4 - Function to greet based on the language selection\n",
    "## defeine the function\n",
    "def greet(inp):\n",
    "    if(inp == \"eng\"):\n",
    "        print(\"Hi there, how r u ?\")\n",
    "    elif(inp == \"fra\"):\n",
    "        print(\"Bonjour\")\n",
    "    elif(inp == \"tam\"):\n",
    "        print(\"Vannakam\")\n",
    "    else:\n",
    "        print(\"Select right language\")"
   ]
  },
  {
   "cell_type": "code",
   "execution_count": 9,
   "metadata": {},
   "outputs": [
    {
     "name": "stdout",
     "output_type": "stream",
     "text": [
      "Vannakam\n",
      "Select right language\n"
     ]
    }
   ],
   "source": [
    "#call the function\n",
    "greet(\"tam\")    \n",
    "greet(\"par\")"
   ]
  },
  {
   "cell_type": "code",
   "execution_count": 3,
   "metadata": {},
   "outputs": [],
   "source": [
    "## Function 5 - Function to do add and suc\n",
    "## function which does more than one math operation\n",
    "def math_fun(x,y):\n",
    "    add = x + y\n",
    "    sub = x-y\n",
    "    print(add,sub)\n",
    "    return \"addition output : {} and subtraction output : {}\" .format(add,sub)"
   ]
  },
  {
   "cell_type": "code",
   "execution_count": 4,
   "metadata": {},
   "outputs": [
    {
     "name": "stdout",
     "output_type": "stream",
     "text": [
      "5 -1\n"
     ]
    },
    {
     "data": {
      "text/plain": [
       "'addition output : 5 and subtraction output : -1'"
      ]
     },
     "execution_count": 4,
     "metadata": {},
     "output_type": "execute_result"
    }
   ],
   "source": [
    "math_fun(2,3)"
   ]
  },
  {
   "cell_type": "code",
   "execution_count": 11,
   "metadata": {},
   "outputs": [
    {
     "name": "stdout",
     "output_type": "stream",
     "text": [
      "6 2\n"
     ]
    },
    {
     "data": {
      "text/plain": [
       "'addition output : 6 and subtraction output : 2'"
      ]
     },
     "execution_count": 11,
     "metadata": {},
     "output_type": "execute_result"
    }
   ],
   "source": [
    "## Call the function to execute the function\n",
    "math_fun(4,2)"
   ]
  },
  {
   "cell_type": "code",
   "execution_count": 12,
   "metadata": {},
   "outputs": [],
   "source": [
    "## Function 6 - Function to caculate number of days and weeks\n",
    "## Pass the number of days and get the count of weeks and left out days\n",
    "def readable_timedelta(days):\n",
    "    ## find how many working weeks with the given input days\n",
    "    weeks = days // 7\n",
    "    # find how many days left\n",
    "    remainder = days % 7\n",
    "    return \"{} week(s) and {} day(s)\".format(weeks, remainder)"
   ]
  },
  {
   "cell_type": "code",
   "execution_count": 13,
   "metadata": {},
   "outputs": [
    {
     "name": "stdout",
     "output_type": "stream",
     "text": [
      "1 week(s) and 1 day(s)\n"
     ]
    }
   ],
   "source": [
    "## call the function\n",
    " print(readable_timedelta(8))"
   ]
  },
  {
   "cell_type": "code",
   "execution_count": 14,
   "metadata": {},
   "outputs": [
    {
     "data": {
      "text/plain": [
       "'\\n### below commands are part of the above function\\n   days = 15\\n   weeks = days // 7\\n   remainder = days % 7\\n   print(\"number of weeks: \" ,weeks)\\n   print(\"num of days left :\", remainder)\\n   '"
      ]
     },
     "execution_count": 14,
     "metadata": {},
     "output_type": "execute_result"
    }
   ],
   "source": [
    " \"\"\"\n",
    " ### below commands are part of the above function\n",
    "    days = 15\n",
    "    weeks = days // 7\n",
    "    remainder = days % 7\n",
    "    print(\"number of weeks: \" ,weeks)\n",
    "    print(\"num of days left :\", remainder)\n",
    "    \"\"\""
   ]
  },
  {
   "cell_type": "code",
   "execution_count": 15,
   "metadata": {},
   "outputs": [],
   "source": [
    "## Function 7 -    \n",
    "    # find out the middle three number of the given 5 number and add the values\\   \n",
    "def sum_of_middle_three(score1,score2,score3,score4,score5):\n",
    "    \"\"\"\n",
    "    Find the sum of the middle three numbers out of the five given.\n",
    "    \"\"\"\n",
    "    max_score = max(score1,score2,score3,score4,score5)\n",
    "    min_score = min(score1,score2,score3,score4,score5)\n",
    "    sum = score1 + score2 + score3 + score4 + score5 - max_score - min_score\n",
    "    return sum"
   ]
  },
  {
   "cell_type": "code",
   "execution_count": 17,
   "metadata": {},
   "outputs": [
    {
     "data": {
      "text/plain": [
       "180"
      ]
     },
     "execution_count": 17,
     "metadata": {},
     "output_type": "execute_result"
    }
   ],
   "source": [
    "##call the function    \n",
    "sum_of_middle_three(40,20,60,80,86)\n",
    "#sum_of_middle_three(40,20,60,80,86,23) ## adition of one more input will thro an error as the function written will not support"
   ]
  },
  {
   "cell_type": "code",
   "execution_count": 1,
   "metadata": {},
   "outputs": [],
   "source": [
    "## function 8\n",
    "\n",
    "      ## function to calculate the median\n",
    "        ## if the input is odd number pick the middle, if its even pic the mid two , add and take average\n",
    "\n",
    "\n",
    "def median(inp):\n",
    "    inp.sort()\n",
    "    if len(inp) % 2:\n",
    "       # since the input return odd output, we need to just pick the middle element to get the median\n",
    "        middle_index = int(len(inp)/2)\n",
    "        return inp[middle_index]\n",
    "    else:\n",
    "        # given input list is even order\n",
    "        right_of_middle = len(inp)//2 \n",
    "        left_of_middle = right_of_middle - 1\n",
    "        return (inp[right_of_middle] + inp[left_of_middle])/2"
   ]
  },
  {
   "cell_type": "code",
   "execution_count": 20,
   "metadata": {},
   "outputs": [
    {
     "name": "stdout",
     "output_type": "stream",
     "text": [
      "[2, 4, 6, 7, 3, 1]\n"
     ]
    },
    {
     "data": {
      "text/plain": [
       "3.5"
      ]
     },
     "execution_count": 20,
     "metadata": {},
     "output_type": "execute_result"
    }
   ],
   "source": [
    "inp = [ 2,4,6,7,3,1]\n",
    "print(inp) \n",
    "median(inp)"
   ]
  },
  {
   "cell_type": "markdown",
   "metadata": {},
   "source": [
    "# Inbuilt functions"
   ]
  },
  {
   "cell_type": "code",
   "execution_count": 5,
   "metadata": {},
   "outputs": [
    {
     "name": "stdout",
     "output_type": "stream",
     "text": [
      "2019-02-24 21:32:55.849820\n"
     ]
    }
   ],
   "source": [
    "#date\n",
    "    \n",
    "## get the current system time and date\n",
    "import datetime\n",
    "x = datetime.datetime.now()\n",
    "print(x)"
   ]
  },
  {
   "cell_type": "code",
   "execution_count": 22,
   "metadata": {},
   "outputs": [
    {
     "name": "stdout",
     "output_type": "stream",
     "text": [
      "2018\n",
      "Thursday\n"
     ]
    }
   ],
   "source": [
    "# get year and day  \n",
    "import datetime\n",
    "x = datetime.datetime.now()\n",
    "print(x.year)\n",
    "print(x.strftime(\"%A\"))\n"
   ]
  },
  {
   "cell_type": "code",
   "execution_count": 23,
   "metadata": {},
   "outputs": [
    {
     "name": "stdout",
     "output_type": "stream",
     "text": [
      "2020-05-17 00:00:00\n"
     ]
    }
   ],
   "source": [
    "# create a date\n",
    "import datetime\n",
    "x = datetime.datetime(2020, 5, 17)\n",
    "print(x)"
   ]
  },
  {
   "cell_type": "code",
   "execution_count": 24,
   "metadata": {},
   "outputs": [
    {
     "name": "stdout",
     "output_type": "stream",
     "text": [
      "June\n"
     ]
    }
   ],
   "source": [
    "import datetime\n",
    "x = datetime.datetime(2018, 6, 1)\n",
    "print(x.strftime(\"%B\"))"
   ]
  },
  {
   "cell_type": "code",
   "execution_count": 26,
   "metadata": {},
   "outputs": [
    {
     "name": "stdout",
     "output_type": "stream",
     "text": [
      "1541072648.276984\n",
      "Number of ticks since 12:00am, January 1, 1970: 1541072648.276984\n"
     ]
    }
   ],
   "source": [
    "import time;  # This is required to include time module.\n",
    "ticks = time.time()\n",
    "print(ticks)\n",
    "print(\"Number of ticks since 12:00am, January 1, 1970:\", ticks)"
   ]
  },
  {
   "cell_type": "code",
   "execution_count": 28,
   "metadata": {},
   "outputs": [
    {
     "name": "stdout",
     "output_type": "stream",
     "text": [
      "Local current time : time.struct_time(tm_year=2018, tm_mon=11, tm_mday=1, tm_hour=17, tm_min=14, tm_sec=45, tm_wday=3, tm_yday=305, tm_isdst=0)\n"
     ]
    }
   ],
   "source": [
    "localtime = time.localtime(time.time())\n",
    "print(\"Local current time :\", localtime)"
   ]
  },
  {
   "cell_type": "code",
   "execution_count": 30,
   "metadata": {},
   "outputs": [
    {
     "name": "stdout",
     "output_type": "stream",
     "text": [
      "Local current time : Thu Nov  1 17:15:25 2018\n"
     ]
    }
   ],
   "source": [
    "## formated time\n",
    "localtime = time.asctime( time.localtime(time.time()) )\n",
    "print(\"Local current time :\", localtime)"
   ]
  },
  {
   "cell_type": "code",
   "execution_count": 31,
   "metadata": {},
   "outputs": [
    {
     "name": "stdout",
     "output_type": "stream",
     "text": [
      "Here is the calendar:\n",
      "    January 2008\n",
      "Mo Tu We Th Fr Sa Su\n",
      "    1  2  3  4  5  6\n",
      " 7  8  9 10 11 12 13\n",
      "14 15 16 17 18 19 20\n",
      "21 22 23 24 25 26 27\n",
      "28 29 30 31\n",
      "\n"
     ]
    }
   ],
   "source": [
    "## calendar\n",
    "import calendar\n",
    "cal = calendar.month(2008, 1)\n",
    "print(\"Here is the calendar:\")\n",
    "print(cal)"
   ]
  },
  {
   "cell_type": "code",
   "execution_count": null,
   "metadata": {},
   "outputs": [],
   "source": []
  }
 ],
 "metadata": {
  "kernelspec": {
   "display_name": "Python 3",
   "language": "python",
   "name": "python3"
  },
  "language_info": {
   "codemirror_mode": {
    "name": "ipython",
    "version": 3
   },
   "file_extension": ".py",
   "mimetype": "text/x-python",
   "name": "python",
   "nbconvert_exporter": "python",
   "pygments_lexer": "ipython3",
   "version": "3.7.0"
  }
 },
 "nbformat": 4,
 "nbformat_minor": 2
}
