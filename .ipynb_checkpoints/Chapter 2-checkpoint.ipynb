{
 "cells": [
  {
   "cell_type": "markdown",
   "metadata": {},
   "source": [
    "# Logical Operation"
   ]
  },
  {
   "cell_type": "code",
   "execution_count": 1,
   "metadata": {},
   "outputs": [],
   "source": [
    "a, b, c = 1,2,3"
   ]
  },
  {
   "cell_type": "markdown",
   "metadata": {},
   "source": [
    "AND operation\n",
    "\n",
    "\n",
    "both the statements below are same\n",
    "AND operation both the conditions should be satisfied"
   ]
  },
  {
   "cell_type": "code",
   "execution_count": 2,
   "metadata": {},
   "outputs": [
    {
     "data": {
      "text/plain": [
       "True"
      ]
     },
     "execution_count": 2,
     "metadata": {},
     "output_type": "execute_result"
    }
   ],
   "source": [
    "c > a and c > b\n",
    "(c > a) & (c > b)"
   ]
  },
  {
   "cell_type": "markdown",
   "metadata": {},
   "source": [
    "both the statements below are same\n",
    "OR operation either one condition can be satisfied"
   ]
  },
  {
   "cell_type": "code",
   "execution_count": 3,
   "metadata": {},
   "outputs": [
    {
     "data": {
      "text/plain": [
       "True"
      ]
     },
     "execution_count": 3,
     "metadata": {},
     "output_type": "execute_result"
    }
   ],
   "source": [
    "c < a or c > b\n",
    "(c < a) | (c > b)"
   ]
  },
  {
   "cell_type": "code",
   "execution_count": 4,
   "metadata": {},
   "outputs": [
    {
     "data": {
      "text/plain": [
       "True"
      ]
     },
     "execution_count": 4,
     "metadata": {},
     "output_type": "execute_result"
    }
   ],
   "source": [
    "i = 10\n",
    "i % 2 == 0"
   ]
  },
  {
   "cell_type": "code",
   "execution_count": 5,
   "metadata": {},
   "outputs": [
    {
     "data": {
      "text/plain": [
       "False"
      ]
     },
     "execution_count": 5,
     "metadata": {},
     "output_type": "execute_result"
    }
   ],
   "source": [
    "i = 11\n",
    "i % 2 == 0"
   ]
  },
  {
   "cell_type": "code",
   "execution_count": 7,
   "metadata": {},
   "outputs": [
    {
     "name": "stdout",
     "output_type": "stream",
     "text": [
      "11\n"
     ]
    },
    {
     "data": {
      "text/plain": [
       "False"
      ]
     },
     "execution_count": 7,
     "metadata": {},
     "output_type": "execute_result"
    }
   ],
   "source": [
    "# not operator, response is inverse\n",
    "print(i)\n",
    "not( i < 20)"
   ]
  },
  {
   "cell_type": "code",
   "execution_count": 16,
   "metadata": {},
   "outputs": [
    {
     "data": {
      "text/plain": [
       "False"
      ]
     },
     "execution_count": 16,
     "metadata": {},
     "output_type": "execute_result"
    }
   ],
   "source": [
    "##comparision operator\n",
    "## all the logical operations output will be boolean - true or false\n",
    "a == b \n",
    "a != b \n",
    "a > c\n",
    "b > a\n",
    "a >= c\n",
    "b <= a"
   ]
  },
  {
   "cell_type": "markdown",
   "metadata": {},
   "source": [
    "# string"
   ]
  },
  {
   "cell_type": "code",
   "execution_count": 2,
   "metadata": {},
   "outputs": [
    {
     "data": {
      "text/plain": [
       "'annworks is 1 years old company'"
      ]
     },
     "execution_count": 2,
     "metadata": {},
     "output_type": "execute_result"
    }
   ],
   "source": [
    "##string place holder\n",
    "\n",
    "nm = \"annworks\"\n",
    "nm\n",
    "\n",
    "nm + \" \" +\"is 1 years old company\"\n"
   ]
  },
  {
   "cell_type": "code",
   "execution_count": 4,
   "metadata": {},
   "outputs": [
    {
     "data": {
      "text/plain": [
       "'annworks is 1 old'"
      ]
     },
     "execution_count": 4,
     "metadata": {},
     "output_type": "execute_result"
    }
   ],
   "source": [
    "age = 1\n",
    "#nm + \" is \" + age + \" old\"  # this will throw an error, string and int cannot be added\n",
    "nm + \" is \" + str(age) + \" old\"  # convert age as string and concatenate"
   ]
  },
  {
   "cell_type": "code",
   "execution_count": 12,
   "metadata": {},
   "outputs": [
    {
     "data": {
      "text/plain": [
       "'Eddy you are welcome!!'"
      ]
     },
     "execution_count": 12,
     "metadata": {},
     "output_type": "execute_result"
    }
   ],
   "source": [
    "nm = \"Eddy\"\n",
    "greet = (\"%s you are welcome!!\")\n",
    "greet\n",
    "greet%(nm)\n"
   ]
  },
  {
   "cell_type": "code",
   "execution_count": 13,
   "metadata": {},
   "outputs": [
    {
     "data": {
      "text/plain": [
       "'you are welcome!! Eddy'"
      ]
     },
     "execution_count": 13,
     "metadata": {},
     "output_type": "execute_result"
    }
   ],
   "source": [
    "greet1 = ( \"you are welcome!! %s\")\n",
    "greet1\n",
    "greet1%(nm)"
   ]
  },
  {
   "cell_type": "code",
   "execution_count": 15,
   "metadata": {},
   "outputs": [
    {
     "data": {
      "text/plain": [
       "'Hey  Eddy , you are welcome!! '"
      ]
     },
     "execution_count": 15,
     "metadata": {},
     "output_type": "execute_result"
    }
   ],
   "source": [
    "greet2 = ( \"Hey  %s , you are welcome!! \")\n",
    "greet2\n",
    "greet2%(nm)"
   ]
  },
  {
   "cell_type": "code",
   "execution_count": 16,
   "metadata": {},
   "outputs": [
    {
     "data": {
      "text/plain": [
       "'ann works is great company to work with'"
      ]
     },
     "execution_count": 16,
     "metadata": {},
     "output_type": "execute_result"
    }
   ],
   "source": [
    "cmp = \"%s %s is great company to work with\"\n",
    "cmp%('ann','works')"
   ]
  },
  {
   "cell_type": "code",
   "execution_count": 17,
   "metadata": {},
   "outputs": [
    {
     "data": {
      "text/plain": [
       "'annworks is 1 a old company'"
      ]
     },
     "execution_count": 17,
     "metadata": {},
     "output_type": "execute_result"
    }
   ],
   "source": [
    "cmp = \"%s is %d a old company\"\n",
    "cmp%(\"annworks\",1)"
   ]
  },
  {
   "cell_type": "code",
   "execution_count": 18,
   "metadata": {},
   "outputs": [
    {
     "ename": "TypeError",
     "evalue": "%d format: a number is required, not str",
     "output_type": "error",
     "traceback": [
      "\u001b[1;31m---------------------------------------------------------------------------\u001b[0m",
      "\u001b[1;31mTypeError\u001b[0m                                 Traceback (most recent call last)",
      "\u001b[1;32m<ipython-input-18-abbe000fbb78>\u001b[0m in \u001b[0;36m<module>\u001b[1;34m()\u001b[0m\n\u001b[1;32m----> 1\u001b[1;33m \u001b[0mcmp\u001b[0m\u001b[1;33m%\u001b[0m\u001b[1;33m(\u001b[0m\u001b[1;34m\"annworks\"\u001b[0m\u001b[1;33m,\u001b[0m\u001b[1;34m\"awesome\"\u001b[0m\u001b[1;33m)\u001b[0m \u001b[1;31m# throws an error, 2nd variable should be number  and not string\u001b[0m\u001b[1;33m\u001b[0m\u001b[0m\n\u001b[0m",
      "\u001b[1;31mTypeError\u001b[0m: %d format: a number is required, not str"
     ]
    }
   ],
   "source": [
    "cmp%(\"annworks\",\"awesome\") # throws an error, 2nd variable should be number  and not string"
   ]
  },
  {
   "cell_type": "markdown",
   "metadata": {},
   "source": [
    "# Tuples - denoted by ()"
   ]
  },
  {
   "cell_type": "code",
   "execution_count": 9,
   "metadata": {},
   "outputs": [
    {
     "name": "stdout",
     "output_type": "stream",
     "text": [
      "<class 'tuple'>\n",
      "last name : work\n",
      "<class 'str'>\n",
      "first name : ann\n",
      "first name :  ann\n",
      "first name : ann\n",
      "work\n"
     ]
    }
   ],
   "source": [
    "name = (\"ann\",\"work\")\n",
    "print(type(name))\n",
    "    \n",
    "print(\"last name : {}\".format(name[1]))\n",
    "print(type(format(name[1])))\n",
    "\n",
    "## ways of displaying the variables\n",
    "print(\"first name : {}\".format(name[0]))\n",
    "print(\"first name : \",(name[0]))\n",
    "print(\"first name : %s\" %(name[0]))\n",
    "\n",
    "print(name[1])"
   ]
  },
  {
   "cell_type": "code",
   "execution_count": 23,
   "metadata": {},
   "outputs": [
    {
     "name": "stdout",
     "output_type": "stream",
     "text": [
      "('welcome', 21.223, 'hello world', 70.2)\n",
      "hello world\n"
     ]
    }
   ],
   "source": [
    "mytup = ( 'welcome', 21.223, \"hello world\", 70.2  )\n",
    "print(mytup)\n",
    "print(mytup[2]) ## displays the 3rd value as the index starts from 0"
   ]
  },
  {
   "cell_type": "code",
   "execution_count": 12,
   "metadata": {},
   "outputs": [
    {
     "name": "stdout",
     "output_type": "stream",
     "text": [
      "[5, 8, 35, 40]\n"
     ]
    },
    {
     "data": {
      "text/plain": [
       "8"
      ]
     },
     "execution_count": 12,
     "metadata": {},
     "output_type": "execute_result"
    }
   ],
   "source": [
    "age = (40,35,8,5)\n",
    "s = sorted(age)\n",
    "print(s)\n",
    "\n",
    "age[1]\n",
    "s[1]"
   ]
  },
  {
   "cell_type": "code",
   "execution_count": 14,
   "metadata": {},
   "outputs": [
    {
     "name": "stdout",
     "output_type": "stream",
     "text": [
      "['apple', 'grapes', 'orange']\n",
      "('apple', 'grapes', 'orange')\n"
     ]
    }
   ],
   "source": [
    "## sort the elements which is string\n",
    "fruit = (\"orange\",\"apple\",\"grapes\")\n",
    "f = sorted(fruit)\n",
    "print(f) ## output is list\n",
    "\n",
    "f1 = sorted(fruit)\n",
    "print(tuple(f1)) # output is tuple"
   ]
  },
  {
   "cell_type": "code",
   "execution_count": 34,
   "metadata": {},
   "outputs": [
    {
     "name": "stdout",
     "output_type": "stream",
     "text": [
      "(40, 35, 8, 5)\n",
      "35\n",
      "(40, 35, 8, 5)\n",
      "(40, 35, 8, 5)\n",
      "(40, 35, 8)\n",
      "(40, 35, 8)\n"
     ]
    }
   ],
   "source": [
    "## tuple data slicing\n",
    "print(age)\n",
    "print(age[1])\n",
    "print(age[0:])\n",
    "print(age[:len(age)])\n",
    "print(age[:-1])\n",
    "print(age[-0:-1])"
   ]
  },
  {
   "cell_type": "code",
   "execution_count": 30,
   "metadata": {},
   "outputs": [
    {
     "data": {
      "text/plain": [
       "(40, 35, 8, 5, 'ann', 'work')"
      ]
     },
     "execution_count": 30,
     "metadata": {},
     "output_type": "execute_result"
    }
   ],
   "source": [
    "## add multiple tuples together\n",
    "ad_tup = age + name\n",
    "ad_tup "
   ]
  },
  {
   "cell_type": "code",
   "execution_count": 35,
   "metadata": {},
   "outputs": [
    {
     "ename": "TypeError",
     "evalue": "'tuple' object doesn't support item deletion",
     "output_type": "error",
     "traceback": [
      "\u001b[1;31m---------------------------------------------------------------------------\u001b[0m",
      "\u001b[1;31mTypeError\u001b[0m                                 Traceback (most recent call last)",
      "\u001b[1;32m<ipython-input-35-05932a2264c9>\u001b[0m in \u001b[0;36m<module>\u001b[1;34m()\u001b[0m\n\u001b[1;32m----> 1\u001b[1;33m \u001b[1;32mdel\u001b[0m \u001b[0mage\u001b[0m\u001b[1;33m[\u001b[0m\u001b[1;36m1\u001b[0m\u001b[1;33m]\u001b[0m \u001b[1;31m# tuple cannot delete an object in it\u001b[0m\u001b[1;33m\u001b[0m\u001b[0m\n\u001b[0m\u001b[0;32m      2\u001b[0m \u001b[1;32mdel\u001b[0m \u001b[0mage\u001b[0m \u001b[1;31m# tuple can be deleted completly\u001b[0m\u001b[1;33m\u001b[0m\u001b[0m\n\u001b[0;32m      3\u001b[0m \u001b[0mage\u001b[0m \u001b[1;31m# its not available after deleting\u001b[0m\u001b[1;33m\u001b[0m\u001b[0m\n",
      "\u001b[1;31mTypeError\u001b[0m: 'tuple' object doesn't support item deletion"
     ]
    }
   ],
   "source": [
    "del age[1] # tuple cannot delete an object in it\n",
    "del age # tuple can be deleted completly\n",
    "age # its not available after deleting"
   ]
  },
  {
   "cell_type": "code",
   "execution_count": 37,
   "metadata": {},
   "outputs": [
    {
     "name": "stdout",
     "output_type": "stream",
     "text": [
      "2\n"
     ]
    },
    {
     "data": {
      "text/plain": [
       "('ann', 'work', 'ann', 'work', 'ann', 'work', 'ann', 'work', 'ann', 'work')"
      ]
     },
     "execution_count": 37,
     "metadata": {},
     "output_type": "execute_result"
    }
   ],
   "source": [
    "print(len(name))\n",
    "## repeation is possible    \n",
    "name * 5\n"
   ]
  },
  {
   "cell_type": "markdown",
   "metadata": {},
   "source": [
    "# set - denoted by {}"
   ]
  },
  {
   "cell_type": "code",
   "execution_count": 42,
   "metadata": {},
   "outputs": [
    {
     "name": "stdout",
     "output_type": "stream",
     "text": [
      "{'apple', 'banana', 'grapes', 'cherry'}\n",
      "{'grapes', 'apple', 'mango', 'banana', 'cherry'}\n",
      "{'grapes', 'mango', 'banana', 'cherry'}\n"
     ]
    }
   ],
   "source": [
    "## set uses {}\n",
    "## add new objects to set\n",
    "\n",
    "# set by default remove duplicates\n",
    "ss = {\"apple\", \"banana\", \"apple\", \"grapes\", \"grapes\", \"cherry\"}\n",
    "print(ss )\n",
    "\n",
    "## add an element\n",
    "ss.add(\"mango\")\n",
    "print(ss)\n",
    "\n",
    "## remove an element\n",
    "ss.remove(\"apple\")\n",
    "print(ss)"
   ]
  },
  {
   "cell_type": "markdown",
   "metadata": {},
   "source": [
    "# List - denoted by [ ]"
   ]
  },
  {
   "cell_type": "code",
   "execution_count": 19,
   "metadata": {},
   "outputs": [
    {
     "name": "stdout",
     "output_type": "stream",
     "text": [
      "['apple', 'bananna', 'orange', 'grapes', 'kiwi']\n",
      "<class 'list'>\n"
     ]
    }
   ],
   "source": [
    "fruits = [\"apple\",\"bananna\",\"orange\",\"grapes\",\"kiwi\"]\n",
    "print(fruits)\n",
    "print(type(fruits))"
   ]
  },
  {
   "cell_type": "code",
   "execution_count": 24,
   "metadata": {},
   "outputs": [
    {
     "name": "stdout",
     "output_type": "stream",
     "text": [
      "bananna\n",
      "['apple', 'bananna', 'orange', 'grapes', 'kiwi']\n",
      "['apple', 'bananna', 'orange']\n",
      "['orange', 'grapes']\n",
      "['kiwi', 'grapes']\n",
      "['kiwi', 'grapes', 'orange', 'bananna', 'apple']\n"
     ]
    }
   ],
   "source": [
    "## index starts from zero\n",
    "print(fruits[1]) # gets the second object from the list\n",
    "print(fruits[0:])\n",
    "print(fruits[0:-2]) # remove the last 3 objects from the list\n",
    "\n",
    "print(fruits[-3:-1])\n",
    "print(fruits[:-3:-1])\n",
    "\n",
    "print(fruits[::-1])"
   ]
  },
  {
   "cell_type": "code",
   "execution_count": 50,
   "metadata": {},
   "outputs": [
    {
     "data": {
      "text/plain": [
       "['apple', 'bananna', 'orange', 'grapes', 'kiwi', 'berry']"
      ]
     },
     "execution_count": 50,
     "metadata": {},
     "output_type": "execute_result"
    }
   ],
   "source": [
    "## add new objects to the list\n",
    "fruits.append(\"berry\")\n",
    "fruits"
   ]
  },
  {
   "cell_type": "code",
   "execution_count": 51,
   "metadata": {},
   "outputs": [
    {
     "data": {
      "text/plain": [
       "['apple', 'bananna', 'orange', 'kiwi', 'berry']"
      ]
     },
     "execution_count": 51,
     "metadata": {},
     "output_type": "execute_result"
    }
   ],
   "source": [
    "## add new element to the list, where as we cannot add or remove an element from tuple\n",
    "fruits.remove(\"grapes\")\n",
    "fruits"
   ]
  },
  {
   "cell_type": "code",
   "execution_count": 52,
   "metadata": {},
   "outputs": [
    {
     "data": {
      "text/plain": [
       "['apple', 'bananna', 'orange', 'kiwi', 'cherry']"
      ]
     },
     "execution_count": 52,
     "metadata": {},
     "output_type": "execute_result"
    }
   ],
   "source": [
    "# replace berry with cherry\n",
    "fruits[4] = \"cherry\"\n",
    "fruits"
   ]
  },
  {
   "cell_type": "code",
   "execution_count": 53,
   "metadata": {},
   "outputs": [
    {
     "data": {
      "text/plain": [
       "5"
      ]
     },
     "execution_count": 53,
     "metadata": {},
     "output_type": "execute_result"
    }
   ],
   "source": [
    "# finds the length of the list\n",
    "len(fruits)"
   ]
  },
  {
   "cell_type": "code",
   "execution_count": 54,
   "metadata": {},
   "outputs": [
    {
     "data": {
      "text/plain": [
       "['apple', 'bananna', 'orange', 'cherry']"
      ]
     },
     "execution_count": 54,
     "metadata": {},
     "output_type": "execute_result"
    }
   ],
   "source": [
    "## delete an object form the list\n",
    "del fruits[3] # 4th objects grapes is removed form the list\n",
    "fruits"
   ]
  },
  {
   "cell_type": "code",
   "execution_count": 55,
   "metadata": {},
   "outputs": [
    {
     "data": {
      "text/plain": [
       "['chocolate', 'jam', 'nuts', 'apple']"
      ]
     },
     "execution_count": 55,
     "metadata": {},
     "output_type": "execute_result"
    }
   ],
   "source": [
    "## new list\n",
    "snack = [\"chocolate\",\"jam\",\"nuts\",\"apple\"]\n",
    "snack"
   ]
  },
  {
   "cell_type": "code",
   "execution_count": 56,
   "metadata": {},
   "outputs": [
    {
     "data": {
      "text/plain": [
       "True"
      ]
     },
     "execution_count": 56,
     "metadata": {},
     "output_type": "execute_result"
    }
   ],
   "source": [
    "## check if both the length are equal\n",
    "len(fruits) == len(snack)"
   ]
  },
  {
   "cell_type": "code",
   "execution_count": 57,
   "metadata": {},
   "outputs": [
    {
     "data": {
      "text/plain": [
       "['apple', 'bananna', 'orange', 'cherry', 'chocolate', 'jam', 'nuts', 'apple']"
      ]
     },
     "execution_count": 57,
     "metadata": {},
     "output_type": "execute_result"
    }
   ],
   "source": [
    "## get the complete list of objects from both the list\n",
    "new = fruits + snack\n",
    "new"
   ]
  },
  {
   "cell_type": "code",
   "execution_count": 58,
   "metadata": {},
   "outputs": [
    {
     "data": {
      "text/plain": [
       "{'apple', 'bananna', 'cherry', 'chocolate', 'jam', 'nuts', 'orange'}"
      ]
     },
     "execution_count": 58,
     "metadata": {},
     "output_type": "execute_result"
    }
   ],
   "source": [
    "## set will help to remove the duplicates\n",
    "set(new)"
   ]
  },
  {
   "cell_type": "code",
   "execution_count": 61,
   "metadata": {},
   "outputs": [
    {
     "name": "stdout",
     "output_type": "stream",
     "text": [
      "[100, 'Eddy', 'annworks', 25, 24000, 'chennai']\n",
      "annworks\n"
     ]
    }
   ],
   "source": [
    "# list with mixed variables\n",
    "\n",
    "emp = [100,\"Eddy\",\"annworks\",25,24000,\"chennai\"]\n",
    "print(emp)\n",
    "print(emp[2])"
   ]
  },
  {
   "cell_type": "code",
   "execution_count": 28,
   "metadata": {},
   "outputs": [
    {
     "name": "stdout",
     "output_type": "stream",
     "text": [
      "8\n",
      "1\n",
      "32\n",
      "8\n"
     ]
    },
    {
     "data": {
      "text/plain": [
       "5"
      ]
     },
     "execution_count": 28,
     "metadata": {},
     "output_type": "execute_result"
    }
   ],
   "source": [
    "numbers = [3,1,6,2,8,5,6,1]\n",
    "numbers\n",
    "print(max(numbers))\n",
    "print(min(numbers))\n",
    "print(sum(numbers))\n",
    "print(len(numbers))\n",
    "\n",
    "5 in numbers\n",
    "numbers.index(5)"
   ]
  },
  {
   "cell_type": "code",
   "execution_count": 32,
   "metadata": {},
   "outputs": [
    {
     "name": "stdout",
     "output_type": "stream",
     "text": [
      "['apple', 'bananna', 'orange', 'grapes', 'kiwi']\n"
     ]
    },
    {
     "data": {
      "text/plain": [
       "2"
      ]
     },
     "execution_count": 32,
     "metadata": {},
     "output_type": "execute_result"
    }
   ],
   "source": [
    "## find if the element is present in the variable\n",
    "print(fruits)\n",
    "\"orange\" in fruits\n",
    "\n",
    "fruits.index(\"orange\")"
   ]
  },
  {
   "cell_type": "code",
   "execution_count": 35,
   "metadata": {},
   "outputs": [
    {
     "name": "stdout",
     "output_type": "stream",
     "text": [
      "[10, 2, 3, 6, 4, 8]\n",
      "[2, 3, 4, 6, 8, 10]\n"
     ]
    }
   ],
   "source": [
    "## sort in list\n",
    "\n",
    "a = [10,2,3,6,4,8]\n",
    "print(a)\n",
    "sorted(a) ## this will not change the original value\n",
    "\n",
    "\n",
    "a.sort() # original values gets changed\n",
    "print(a)\n"
   ]
  },
  {
   "cell_type": "code",
   "execution_count": 17,
   "metadata": {},
   "outputs": [
    {
     "name": "stdout",
     "output_type": "stream",
     "text": [
      "return value: orange\n",
      "['apple', 'banana']\n"
     ]
    }
   ],
   "source": [
    "## pop function\n",
    "fruit = [ \"apple\",\"banana\",\"orange\"]\n",
    "#fruit.pop(2)\n",
    "return_value = fruit.pop(2)\n",
    "print(\"return value:\",return_value) # displays and removes the object\n",
    "print(fruit)\n"
   ]
  },
  {
   "cell_type": "code",
   "execution_count": 37,
   "metadata": {},
   "outputs": [
    {
     "name": "stdout",
     "output_type": "stream",
     "text": [
      "['apple', 'bananna', 'orange', 'grapes', 'kiwi']\n",
      "apple\n",
      "bananna\n",
      "orange\n",
      "grapes\n",
      "kiwi\n",
      "apple\tbananna\torange\tgrapes\tkiwi\n",
      "Hey there \n",
      "How are doing ?\n",
      "Its raining here\n",
      "Hey there\tHow are doing ?\tIts raining here\n"
     ]
    },
    {
     "ename": "TypeError",
     "evalue": "sequence item 0: expected str instance, int found",
     "output_type": "error",
     "traceback": [
      "\u001b[1;31m---------------------------------------------------------------------------\u001b[0m",
      "\u001b[1;31mTypeError\u001b[0m                                 Traceback (most recent call last)",
      "\u001b[1;32m<ipython-input-37-13cf76a1624f>\u001b[0m in \u001b[0;36m<module>\u001b[1;34m()\u001b[0m\n\u001b[0;32m     19\u001b[0m \u001b[1;33m\u001b[0m\u001b[0m\n\u001b[0;32m     20\u001b[0m \u001b[0mi\u001b[0m \u001b[1;33m=\u001b[0m \u001b[1;33m[\u001b[0m\u001b[1;36m1\u001b[0m\u001b[1;33m,\u001b[0m\u001b[1;36m2\u001b[0m\u001b[1;33m,\u001b[0m\u001b[1;36m3\u001b[0m\u001b[1;33m]\u001b[0m\u001b[1;33m\u001b[0m\u001b[0m\n\u001b[1;32m---> 21\u001b[1;33m \u001b[0maw\u001b[0m \u001b[1;33m=\u001b[0m \u001b[1;34m\"\\n\"\u001b[0m\u001b[1;33m.\u001b[0m\u001b[0mjoin\u001b[0m\u001b[1;33m(\u001b[0m\u001b[0mi\u001b[0m\u001b[1;33m)\u001b[0m\u001b[1;33m\u001b[0m\u001b[0m\n\u001b[0m\u001b[0;32m     22\u001b[0m \u001b[0mprint\u001b[0m\u001b[1;33m(\u001b[0m\u001b[0maw\u001b[0m\u001b[1;33m)\u001b[0m\u001b[1;33m\u001b[0m\u001b[0m\n\u001b[0;32m     23\u001b[0m \u001b[1;33m\u001b[0m\u001b[0m\n",
      "\u001b[1;31mTypeError\u001b[0m: sequence item 0: expected str instance, int found"
     ]
    }
   ],
   "source": [
    "# Joining list\n",
    "## add a symbol or newline or table before each elements in the list\n",
    "    \n",
    "# add a new lines for each object\n",
    "print(fruits)\n",
    "aw = \"\\n\".join(fruits)\n",
    "print(aw)\n",
    "    \n",
    "# add a tab before each object\n",
    "aw = \"\\t\".join(fruits)\n",
    "print(aw)\n",
    "    \n",
    "aww = \"\\n\".join([\"Hey there \",\"How are doing ?\",\"Its raining here\"])\n",
    "print(aww)\n",
    "\n",
    "\n",
    "aww = \"\\t\".join([\"Hey there\",\"How are doing ?\",\"Its raining here\"])\n",
    "print(aww)\n",
    "\n",
    "# join not works for integer but only for strings\n",
    "i = [1,2,3]\n",
    "aw = \"\\n\".join(i)\n",
    "print(aw)\n",
    "    "
   ]
  },
  {
   "cell_type": "markdown",
   "metadata": {},
   "source": [
    "# Dictonary - denoted by {}"
   ]
  },
  {
   "cell_type": "code",
   "execution_count": 4,
   "metadata": {},
   "outputs": [
    {
     "name": "stdout",
     "output_type": "stream",
     "text": [
      "{'Eddy': 26, 'Maria': 23, 'Jack': 28}\n",
      "['Eddy', 'Jack', 'Maria']\n",
      "[23, 26, 28]\n",
      "[('Eddy', 26), ('Jack', 28), ('Maria', 23)]\n"
     ]
    }
   ],
   "source": [
    "students = {\"Eddy\":26,\"Maria\":23,\"Jack\":28}\n",
    "print(students)\n",
    "type(students)\n",
    "\n",
    "print(sorted(students)) # sort dict\n",
    "print(sorted(students.values()))\n",
    "print(sorted(students.items()))"
   ]
  },
  {
   "cell_type": "code",
   "execution_count": 67,
   "metadata": {},
   "outputs": [
    {
     "data": {
      "text/plain": [
       "28"
      ]
     },
     "execution_count": 67,
     "metadata": {},
     "output_type": "execute_result"
    }
   ],
   "source": [
    "students[\"Jack\"] # pass the name of the student and get the age"
   ]
  },
  {
   "cell_type": "code",
   "execution_count": 68,
   "metadata": {},
   "outputs": [
    {
     "data": {
      "text/plain": [
       "{'Eddy': 26, 'Maria': 23, 'Jack': 27}"
      ]
     },
     "execution_count": 68,
     "metadata": {},
     "output_type": "execute_result"
    }
   ],
   "source": [
    "## update a dictonary\n",
    "students[\"Jack\"] = 27 # jack age is updated from 28 to 27\n",
    "students"
   ]
  },
  {
   "cell_type": "code",
   "execution_count": 70,
   "metadata": {},
   "outputs": [
    {
     "ename": "KeyError",
     "evalue": "'jack'",
     "output_type": "error",
     "traceback": [
      "\u001b[1;31m---------------------------------------------------------------------------\u001b[0m",
      "\u001b[1;31mKeyError\u001b[0m                                  Traceback (most recent call last)",
      "\u001b[1;32m<ipython-input-70-4f7e1b2703b3>\u001b[0m in \u001b[0;36m<module>\u001b[1;34m()\u001b[0m\n\u001b[0;32m      1\u001b[0m \u001b[1;31m## delete an object in a dic\u001b[0m\u001b[1;33m\u001b[0m\u001b[1;33m\u001b[0m\u001b[0m\n\u001b[0;32m      2\u001b[0m \u001b[1;33m\u001b[0m\u001b[0m\n\u001b[1;32m----> 3\u001b[1;33m \u001b[1;32mdel\u001b[0m \u001b[0mstudents\u001b[0m\u001b[1;33m[\u001b[0m\u001b[1;34m\"jack\"\u001b[0m\u001b[1;33m]\u001b[0m \u001b[1;31m## its case sensitive\u001b[0m\u001b[1;33m\u001b[0m\u001b[0m\n\u001b[0m\u001b[0;32m      4\u001b[0m \u001b[0mstudents\u001b[0m\u001b[1;33m\u001b[0m\u001b[0m\n",
      "\u001b[1;31mKeyError\u001b[0m: 'jack'"
     ]
    }
   ],
   "source": [
    "## delete an object in a dic\n",
    "\n",
    "del students[\"jack\"] ## its case sensitive\n",
    "students"
   ]
  },
  {
   "cell_type": "code",
   "execution_count": 72,
   "metadata": {},
   "outputs": [
    {
     "data": {
      "text/plain": [
       "{'Eddy': 26, 'Maria': 23}"
      ]
     },
     "execution_count": 72,
     "metadata": {},
     "output_type": "execute_result"
    }
   ],
   "source": [
    "## delete an object in a dic\n",
    "\n",
    "del students[\"Jack\"] ## its case sensitive\n",
    "students"
   ]
  },
  {
   "cell_type": "code",
   "execution_count": 73,
   "metadata": {},
   "outputs": [
    {
     "data": {
      "text/plain": [
       "2"
      ]
     },
     "execution_count": 73,
     "metadata": {},
     "output_type": "execute_result"
    }
   ],
   "source": [
    "# length of dict\n",
    "len(students)"
   ]
  },
  {
   "cell_type": "code",
   "execution_count": 74,
   "metadata": {},
   "outputs": [
    {
     "name": "stdout",
     "output_type": "stream",
     "text": [
      "{'Eddy': 28}\n"
     ]
    },
    {
     "data": {
      "text/plain": [
       "28"
      ]
     },
     "execution_count": 74,
     "metadata": {},
     "output_type": "execute_result"
    }
   ],
   "source": [
    "## each key should be unique\n",
    "std  = {\"Eddy\":26,\"Eddy\":23,\"Eddy\":28}\n",
    "print(std) # holds only the last value when the keys are same\n",
    "std[\"Eddy\"]"
   ]
  },
  {
   "cell_type": "code",
   "execution_count": 75,
   "metadata": {},
   "outputs": [
    {
     "data": {
      "text/plain": [
       "6"
      ]
     },
     "execution_count": 75,
     "metadata": {},
     "output_type": "execute_result"
    }
   ],
   "source": [
    "## dictonary of dictonary\n",
    "## one level of drill down\n",
    "elements = {'hydrogen': 1, 'helium': 2, 'carbon': 6}\n",
    "elements['carbon']"
   ]
  },
  {
   "cell_type": "code",
   "execution_count": 76,
   "metadata": {},
   "outputs": [
    {
     "data": {
      "text/plain": [
       "'He'"
      ]
     },
     "execution_count": 76,
     "metadata": {},
     "output_type": "execute_result"
    }
   ],
   "source": [
    "## two level of drill down\n",
    "elements1 = {'hydrogen': {'number': 1, 'weight': 1.00794, 'symbol': 'H'},\n",
    "            'helium': {'number': 2, 'weight': 4.002602, 'symbol': 'He'}}\n",
    "elements1['helium']['symbol']"
   ]
  },
  {
   "cell_type": "code",
   "execution_count": 59,
   "metadata": {},
   "outputs": [
    {
     "data": {
      "text/plain": [
       "16"
      ]
     },
     "execution_count": 59,
     "metadata": {},
     "output_type": "execute_result"
    }
   ],
   "source": [
    "# three level of drill down\n",
    "elements2 = {'hydrogen': {'number': 1, 'weight': 1.00794, 'symbol': 'H'},\n",
    "            'helium': {'number': 2, 'weight': 4.002602, 'symbol': {'hydrogen': 1, 'helium': 2, 'carbon': 16}}}\n",
    "elements2['helium']['symbol']['carbon']"
   ]
  },
  {
   "cell_type": "code",
   "execution_count": null,
   "metadata": {},
   "outputs": [],
   "source": []
  }
 ],
 "metadata": {
  "kernelspec": {
   "display_name": "Python 3",
   "language": "python",
   "name": "python3"
  },
  "language_info": {
   "codemirror_mode": {
    "name": "ipython",
    "version": 3
   },
   "file_extension": ".py",
   "mimetype": "text/x-python",
   "name": "python",
   "nbconvert_exporter": "python",
   "pygments_lexer": "ipython3",
   "version": "3.7.0"
  }
 },
 "nbformat": 4,
 "nbformat_minor": 2
}
