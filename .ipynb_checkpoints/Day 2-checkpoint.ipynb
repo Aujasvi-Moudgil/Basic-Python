{
 "cells": [
  {
   "cell_type": "markdown",
   "metadata": {},
   "source": [
    "## Looping in Python\n",
    "\n",
    "### The For loop"
   ]
  },
  {
   "cell_type": "code",
   "execution_count": 1,
   "metadata": {},
   "outputs": [
    {
     "name": "stdout",
     "output_type": "stream",
     "text": [
      "Hi Joe.  Please come to my party on Saturday!\n",
      "Hi Zoe.  Please come to my party on Saturday!\n",
      "Hi Brad.  Please come to my party on Saturday!\n",
      "Hi Angelina.  Please come to my party on Saturday!\n",
      "Hi Zuki.  Please come to my party on Saturday!\n",
      "Hi Thandi.  Please come to my party on Saturday!\n",
      "Hi Paris.  Please come to my party on Saturday!\n"
     ]
    }
   ],
   "source": [
    "for name in [\"Joe\",\"Zoe\",\"Brad\",\"Angelina\",\"Zuki\",\"Thandi\",\"Paris\"]:\n",
    "    invite = \"Hi \" + name + \".  Please come to my party on Saturday!\"\n",
    "    print(invite)"
   ]
  },
  {
   "cell_type": "markdown",
   "metadata": {},
   "source": [
    "visualise loops through http://www.pythontutor.com/visualize.html#mode=display"
   ]
  },
  {
   "cell_type": "code",
   "execution_count": 1,
   "metadata": {},
   "outputs": [
    {
     "name": "stdout",
     "output_type": "stream",
     "text": [
      "23\n",
      "1\n",
      "0\n",
      "12\n",
      "45\n",
      "-1\n",
      "46\n"
     ]
    }
   ],
   "source": [
    "l2=[23,1,0,12,45,-1,46]\n",
    "\n",
    "for x in l2 :\n",
    "    print(x)"
   ]
  },
  {
   "cell_type": "code",
   "execution_count": 2,
   "metadata": {},
   "outputs": [
    {
     "name": "stdout",
     "output_type": "stream",
     "text": [
      "hello world\n",
      "hello world\n",
      "hello world\n",
      "hello world\n",
      "hello world\n",
      "hello world\n",
      "hello world\n"
     ]
    }
   ],
   "source": [
    "for x in l2:\n",
    "    print(\"hello world\")"
   ]
  },
  {
   "cell_type": "code",
   "execution_count": 3,
   "metadata": {},
   "outputs": [
    {
     "name": "stdout",
     "output_type": "stream",
     "text": [
      "100  is even number\n"
     ]
    }
   ],
   "source": [
    "# The following code snippet is to check if a number is divisible by 2.\n",
    "a = 100 # try different values for a\n",
    "if(a % 2 == 0) :   # checks if the remainder is zero when divided by 2 \n",
    "    print(a,\" is even number\")\n",
    "else :\n",
    "    print(a,\" is odd number\") "
   ]
  },
  {
   "cell_type": "markdown",
   "metadata": {},
   "source": [
    "**Q1.** Write a modified version of the code given above so that a message is printed only if the number is even."
   ]
  },
  {
   "cell_type": "code",
   "execution_count": 28,
   "metadata": {},
   "outputs": [
    {
     "name": "stdout",
     "output_type": "stream",
     "text": [
      "100  is even number\n"
     ]
    }
   ],
   "source": [
    "a = 100 # try different values for a\n",
    "if(a % 2 == 0) :   # checks if the remainder is zero when divided by 2 \n",
    "    print(a,\" is even number\")"
   ]
  },
  {
   "cell_type": "markdown",
   "metadata": {},
   "source": [
    "**Q2.** Modify the *if* condition in the code given using the '!=' operator and print if a number is odd."
   ]
  },
  {
   "cell_type": "code",
   "execution_count": 34,
   "metadata": {},
   "outputs": [
    {
     "name": "stdout",
     "output_type": "stream",
     "text": [
      "3  is odd number\n"
     ]
    }
   ],
   "source": [
    "a = 3 # try different values for a\n",
    "if(a % 2)!= 0 :   # checks if the remainder is zero when divided by 2 \n",
    "    print(a,\" is odd number\")"
   ]
  },
  {
   "cell_type": "markdown",
   "metadata": {},
   "source": [
    "#### A loop visualised\n",
    "\n",
    "<img src = 'flowchart_for.png'>"
   ]
  },
  {
   "cell_type": "markdown",
   "metadata": {},
   "source": [
    "### Breaking out of a loop\n",
    "The break statement can be used to halt and exit a loop"
   ]
  },
  {
   "cell_type": "code",
   "execution_count": 2,
   "metadata": {},
   "outputs": [
    {
     "name": "stdout",
     "output_type": "stream",
     "text": [
      "Hello world\n",
      "Hello world\n",
      "I have exited the loop\n"
     ]
    }
   ],
   "source": [
    "count = 0 \n",
    "myl = [1,2,3,4,5,6,7,8]\n",
    "for x in myl: \n",
    "    print(\"Hello world\")\n",
    "    count=count+1\n",
    "    if(count==2):\n",
    "        break #Break statement will exit the loop block even though the loop can run 8 times\n",
    "print(\"I have exited the loop\")"
   ]
  },
  {
   "cell_type": "markdown",
   "metadata": {},
   "source": [
    "**Q3.** Modify the above program to print the first 2 even numbers from the list ."
   ]
  },
  {
   "cell_type": "code",
   "execution_count": 7,
   "metadata": {},
   "outputs": [
    {
     "name": "stdout",
     "output_type": "stream",
     "text": [
      "2\n",
      "4\n",
      "I have exited the loop\n"
     ]
    }
   ],
   "source": [
    "count = 0 \n",
    "myl = [1,2,3,4,5,6,7,8]\n",
    "for x in myl: \n",
    "    if (x%2)==0:\n",
    "        print(x)\n",
    "    count=count+1\n",
    "    if(count==4):\n",
    "        break #Break statement will exit the loop block even though the loop can run 8 times\n",
    "print(\"I have exited the loop\")"
   ]
  },
  {
   "cell_type": "markdown",
   "metadata": {},
   "source": [
    "**Q4.** Pick the first 2 even numbers and last 2 odd numbers from the list \"myl\" and store the numbers in a new list and display the new list contents seperately to the user (Hint: Use append() function to add elements to a list) "
   ]
  },
  {
   "cell_type": "code",
   "execution_count": 45,
   "metadata": {},
   "outputs": [
    {
     "name": "stdout",
     "output_type": "stream",
     "text": [
      "[2, 4, 5, 7]\n"
     ]
    }
   ],
   "source": [
    "ListT = []\n",
    "\n",
    "Liste = []\n",
    "count = 0 \n",
    "myl = [1,2,3,4,5,6,7,8]\n",
    "for x in myl: \n",
    "    if (x%2)==0:\n",
    "        Liste.append(x)\n",
    "    count=count+1\n",
    "    if(count==4):\n",
    "        break\n",
    "\n",
    "\n",
    "count1 = 0\n",
    "Listo=[]\n",
    "myl = [1,2,3,4,5,6,7,8]\n",
    "for x in myl: \n",
    "    if (x%2)!=0:\n",
    "        Listo.append(x)\n",
    "    count=count1+1\n",
    "    if(count==len(myl)):\n",
    "        break\n",
    "\n",
    "\n",
    "ListT = Liste + Listo[-2:]\n",
    "print(List3)"
   ]
  },
  {
   "cell_type": "markdown",
   "metadata": {},
   "source": [
    "**Q5.** Print the last 2 odd numbers from the list myl (Note: Do not reverse the list or use a new list)"
   ]
  },
  {
   "cell_type": "code",
   "execution_count": 19,
   "metadata": {},
   "outputs": [
    {
     "name": "stdout",
     "output_type": "stream",
     "text": [
      "[5, 7]\n"
     ]
    }
   ],
   "source": [
    "List2=[]\n",
    "myl = [1,2,3,4,5,6,7,8]\n",
    "for x in myl: \n",
    "    if (x%2)!=0:\n",
    "        List2.append(x)\n",
    "    count=count+1\n",
    "    if(count==len(myl)):\n",
    "        break\n",
    "print(List2[-2:])\n"
   ]
  },
  {
   "cell_type": "markdown",
   "metadata": {},
   "source": [
    "### The while loop"
   ]
  },
  {
   "cell_type": "code",
   "execution_count": 46,
   "metadata": {},
   "outputs": [
    {
     "name": "stdout",
     "output_type": "stream",
     "text": [
      "hello world\n",
      "hello world\n",
      "hello world\n",
      "hello world\n",
      "hello world\n",
      "hello world\n",
      "hello world\n",
      "hello world\n",
      "hello world\n",
      "hello world\n"
     ]
    }
   ],
   "source": [
    "# Print \"Hello world\" 10 times \n",
    "count = 1\n",
    "while(count <=10) :\n",
    "    print(\"hello world\")\n",
    "    count = count + 1 "
   ]
  },
  {
   "cell_type": "markdown",
   "metadata": {},
   "source": [
    "**Q6.** What is the significance of incrementing the count variable? What will happen if you ignore this step?"
   ]
  },
  {
   "cell_type": "code",
   "execution_count": null,
   "metadata": {},
   "outputs": [],
   "source": [
    "It will update the value of count and stops when the while condition is met. "
   ]
  },
  {
   "cell_type": "markdown",
   "metadata": {},
   "source": [
    "**Q7.** Modify the above program to print hello world only 5 times , without changing the while(count<= 10)"
   ]
  },
  {
   "cell_type": "code",
   "execution_count": 47,
   "metadata": {},
   "outputs": [
    {
     "name": "stdout",
     "output_type": "stream",
     "text": [
      "hello world\n",
      "hello world\n",
      "hello world\n",
      "hello world\n",
      "hello world\n"
     ]
    }
   ],
   "source": [
    "count = 1\n",
    "while(count <=5) :\n",
    "    print(\"hello world\")\n",
    "    count = count + 1 "
   ]
  },
  {
   "cell_type": "markdown",
   "metadata": {},
   "source": [
    "**Q8.** Write a program to print the first 10 odd numbers "
   ]
  },
  {
   "cell_type": "code",
   "execution_count": 5,
   "metadata": {},
   "outputs": [
    {
     "name": "stdout",
     "output_type": "stream",
     "text": [
      "1\n",
      "3\n",
      "5\n",
      "7\n",
      "9\n"
     ]
    }
   ],
   "source": [
    "number = 1\n",
    "while(number <=10) :\n",
    "    if(number % 2)!= 0:\n",
    "        print(number)\n",
    "    number = number + 1"
   ]
  },
  {
   "cell_type": "markdown",
   "metadata": {},
   "source": [
    "**Q9.** Write a a program to find the sum of first 50 natural numbers starting from 1"
   ]
  },
  {
   "cell_type": "code",
   "execution_count": 5,
   "metadata": {},
   "outputs": [
    {
     "name": "stdout",
     "output_type": "stream",
     "text": [
      "1275\n"
     ]
    }
   ],
   "source": [
    "count = 0\n",
    "for x in range(1, 51):\n",
    "    count += x\n",
    "print(count)\n"
   ]
  },
  {
   "cell_type": "markdown",
   "metadata": {},
   "source": [
    "**Q10.** Write a program to to find the sum of all the numbers between 555 and 1111 which are divisible by 7"
   ]
  },
  {
   "cell_type": "code",
   "execution_count": 6,
   "metadata": {},
   "outputs": [
    {
     "data": {
      "text/plain": [
       "397063"
      ]
     },
     "execution_count": 6,
     "metadata": {},
     "output_type": "execute_result"
    }
   ],
   "source": [
    "sum(i for i in range(555,1111) if i%7)"
   ]
  },
  {
   "cell_type": "markdown",
   "metadata": {},
   "source": [
    "**Q11.** Write a program to count the number of numbers between 555 and 1111 which are divisible by 7"
   ]
  },
  {
   "cell_type": "code",
   "execution_count": 9,
   "metadata": {},
   "outputs": [
    {
     "name": "stdout",
     "output_type": "stream",
     "text": [
      "79\n"
     ]
    }
   ],
   "source": [
    "n1 = []\n",
    "for i in range(555,1111):\n",
    "    \n",
    "    if i%7==0:\n",
    "        n1.append(int(i))\n",
    "print(len(n1))\n",
    "    "
   ]
  },
  {
   "cell_type": "markdown",
   "metadata": {},
   "source": [
    "**Q12.** Write a program to compute the sum of squares of first 10 natural numbers"
   ]
  },
  {
   "cell_type": "code",
   "execution_count": 7,
   "metadata": {},
   "outputs": [
    {
     "data": {
      "text/plain": [
       "285"
      ]
     },
     "execution_count": 7,
     "metadata": {},
     "output_type": "execute_result"
    }
   ],
   "source": [
    "sum((x)**2 for x in range(1,10))"
   ]
  },
  {
   "cell_type": "markdown",
   "metadata": {},
   "source": [
    "**Q13** Write a program to print the sum of squares of all the even numbers between 334 and 667"
   ]
  },
  {
   "cell_type": "code",
   "execution_count": 27,
   "metadata": {},
   "outputs": [
    {
     "data": {
      "text/plain": [
       "43302432"
      ]
     },
     "execution_count": 27,
     "metadata": {},
     "output_type": "execute_result"
    }
   ],
   "source": [
    "sum((x)**2 for x in range(334,667) if x%2==0)"
   ]
  }
 ],
 "metadata": {
  "kernelspec": {
   "display_name": "Python 3",
   "language": "python",
   "name": "python3"
  },
  "language_info": {
   "codemirror_mode": {
    "name": "ipython",
    "version": 3
   },
   "file_extension": ".py",
   "mimetype": "text/x-python",
   "name": "python",
   "nbconvert_exporter": "python",
   "pygments_lexer": "ipython3",
   "version": "3.7.0"
  }
 },
 "nbformat": 4,
 "nbformat_minor": 2
}
