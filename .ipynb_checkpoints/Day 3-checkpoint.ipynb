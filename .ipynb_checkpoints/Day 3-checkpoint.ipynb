{
 "cells": [
  {
   "cell_type": "markdown",
   "metadata": {},
   "source": [
    "#### Introduction to iterators in Python"
   ]
  },
  {
   "cell_type": "markdown",
   "metadata": {},
   "source": [
    "Q. To figure out all the built in methods for any python object "
   ]
  },
  {
   "cell_type": "code",
   "execution_count": 2,
   "metadata": {},
   "outputs": [
    {
     "data": {
      "text/plain": [
       "['__add__',\n",
       " '__class__',\n",
       " '__contains__',\n",
       " '__delattr__',\n",
       " '__delitem__',\n",
       " '__dir__',\n",
       " '__doc__',\n",
       " '__eq__',\n",
       " '__format__',\n",
       " '__ge__',\n",
       " '__getattribute__',\n",
       " '__getitem__',\n",
       " '__gt__',\n",
       " '__hash__',\n",
       " '__iadd__',\n",
       " '__imul__',\n",
       " '__init__',\n",
       " '__init_subclass__',\n",
       " '__iter__',\n",
       " '__le__',\n",
       " '__len__',\n",
       " '__lt__',\n",
       " '__mul__',\n",
       " '__ne__',\n",
       " '__new__',\n",
       " '__reduce__',\n",
       " '__reduce_ex__',\n",
       " '__repr__',\n",
       " '__reversed__',\n",
       " '__rmul__',\n",
       " '__setattr__',\n",
       " '__setitem__',\n",
       " '__sizeof__',\n",
       " '__str__',\n",
       " '__subclasshook__',\n",
       " 'append',\n",
       " 'clear',\n",
       " 'copy',\n",
       " 'count',\n",
       " 'extend',\n",
       " 'index',\n",
       " 'insert',\n",
       " 'pop',\n",
       " 'remove',\n",
       " 'reverse',\n",
       " 'sort']"
      ]
     },
     "execution_count": 2,
     "metadata": {},
     "output_type": "execute_result"
    }
   ],
   "source": [
    "a = [1,2,3,4,5]\n",
    "\n",
    "dir(a) #would list all the built in functions for 'a' "
   ]
  },
  {
   "cell_type": "code",
   "execution_count": 4,
   "metadata": {},
   "outputs": [],
   "source": [
    "itr = iter(a)"
   ]
  },
  {
   "cell_type": "code",
   "execution_count": 5,
   "metadata": {},
   "outputs": [
    {
     "data": {
      "text/plain": [
       "1"
      ]
     },
     "execution_count": 5,
     "metadata": {},
     "output_type": "execute_result"
    }
   ],
   "source": [
    "next(itr)"
   ]
  },
  {
   "cell_type": "markdown",
   "metadata": {},
   "source": [
    "Note : Keep calling itr(next) until all the elements of the list is printed "
   ]
  },
  {
   "cell_type": "markdown",
   "metadata": {},
   "source": [
    "Q. Creating a reverse iterator on a list "
   ]
  },
  {
   "cell_type": "code",
   "execution_count": 5,
   "metadata": {},
   "outputs": [],
   "source": [
    "ritr = reversed(a)"
   ]
  },
  {
   "cell_type": "code",
   "execution_count": 6,
   "metadata": {},
   "outputs": [
    {
     "data": {
      "text/plain": [
       "5"
      ]
     },
     "execution_count": 6,
     "metadata": {},
     "output_type": "execute_result"
    }
   ],
   "source": [
    "next(ritr)"
   ]
  },
  {
   "cell_type": "markdown",
   "metadata": {},
   "source": [
    "Q. What is the advantage of using iterators over using while loops on a list of elements ?"
   ]
  },
  {
   "cell_type": "markdown",
   "metadata": {},
   "source": []
  },
  {
   "cell_type": "markdown",
   "metadata": {},
   "source": [
    "q) What is a function ?"
   ]
  },
  {
   "cell_type": "code",
   "execution_count": 8,
   "metadata": {},
   "outputs": [],
   "source": [
    "def greetings_call():   #This is function definition \n",
    "    print(\"Welcome..I am inside the function\")"
   ]
  },
  {
   "cell_type": "code",
   "execution_count": 9,
   "metadata": {},
   "outputs": [
    {
     "name": "stdout",
     "output_type": "stream",
     "text": [
      "Welcome..I am inside the function\n"
     ]
    }
   ],
   "source": [
    "greetings_call()  #This statment is to call the function which you have defined "
   ]
  },
  {
   "cell_type": "markdown",
   "metadata": {},
   "source": [
    "Q. Writing a function to add 2 numbers "
   ]
  },
  {
   "cell_type": "code",
   "execution_count": 10,
   "metadata": {},
   "outputs": [],
   "source": [
    "#The below is an example of functions with arguments \n",
    "\n",
    "def mysum(a,b):   \n",
    "    c=a+b\n",
    "    print(\"The sum of\",a ,\"and \",b ,\"=\",c )"
   ]
  },
  {
   "cell_type": "code",
   "execution_count": 11,
   "metadata": {},
   "outputs": [
    {
     "name": "stdout",
     "output_type": "stream",
     "text": [
      "The sum of 20 and  30 = 50\n"
     ]
    }
   ],
   "source": [
    "mysum(20,30) #Function call happens here"
   ]
  },
  {
   "cell_type": "markdown",
   "metadata": {},
   "source": [
    "Q. How to read input from the keyboard by promoting the user "
   ]
  },
  {
   "cell_type": "markdown",
   "metadata": {},
   "source": [
    "input() is used to read user input"
   ]
  },
  {
   "cell_type": "code",
   "execution_count": 12,
   "metadata": {},
   "outputs": [
    {
     "name": "stdout",
     "output_type": "stream",
     "text": [
      "Please enter your age :12\n",
      "your age is : 12\n"
     ]
    }
   ],
   "source": [
    "age = input(\"Please enter your age :\")\n",
    "print(\"your age is :\", age)"
   ]
  },
  {
   "cell_type": "markdown",
   "metadata": {},
   "source": [
    "Q. How` do we check the datatype of the variables ?"
   ]
  },
  {
   "cell_type": "code",
   "execution_count": 13,
   "metadata": {},
   "outputs": [
    {
     "data": {
      "text/plain": [
       "str"
      ]
     },
     "execution_count": 13,
     "metadata": {},
     "output_type": "execute_result"
    }
   ],
   "source": [
    "type(age)"
   ]
  },
  {
   "cell_type": "markdown",
   "metadata": {},
   "source": [
    "You would notice that the age variable is of type \"string\" , we need to convert it into a number in case if we need to perform any arithmatic operations."
   ]
  },
  {
   "cell_type": "code",
   "execution_count": 14,
   "metadata": {},
   "outputs": [
    {
     "name": "stdout",
     "output_type": "stream",
     "text": [
      "Pls enter your age:12\n"
     ]
    },
    {
     "data": {
      "text/plain": [
       "float"
      ]
     },
     "execution_count": 14,
     "metadata": {},
     "output_type": "execute_result"
    }
   ],
   "source": [
    "age=float(input(\"Pls enter your age:\"))\n",
    "type(age) "
   ]
  },
  {
   "cell_type": "markdown",
   "metadata": {},
   "source": [
    "##### Write a program:\n",
    "\n",
    "Which accepts a number from the user (via input function) and passes it to a function to check if its an odd number or even number. "
   ]
  },
  {
   "cell_type": "code",
   "execution_count": 6,
   "metadata": {},
   "outputs": [
    {
     "name": "stdout",
     "output_type": "stream",
     "text": [
      "Take the input: 21\n",
      "Number is odd\n"
     ]
    }
   ],
   "source": [
    "number = int(input(\"Take the input: \"))\n",
    "if number%2==0:\n",
    "    print(\"Number is even\")\n",
    "else:\n",
    "    print(\"Number is odd\")"
   ]
  },
  {
   "cell_type": "markdown",
   "metadata": {},
   "source": [
    "Q. Understanding the split() function in Python "
   ]
  },
  {
   "cell_type": "code",
   "execution_count": 15,
   "metadata": {},
   "outputs": [
    {
     "name": "stdout",
     "output_type": "stream",
     "text": [
      "['Hello', 'how', 'are', 'you', 'in', '30']\n"
     ]
    },
    {
     "data": {
      "text/plain": [
       "list"
      ]
     },
     "execution_count": 15,
     "metadata": {},
     "output_type": "execute_result"
    }
   ],
   "source": [
    "sent = \"Hello how are you in 30\"\n",
    "words = sent.split(\" \") # The \" \" would split the above sentence into words based on the space \" \" as a seperator. \n",
    "print(words)\n",
    "type(words)"
   ]
  },
  {
   "cell_type": "markdown",
   "metadata": {},
   "source": [
    "Q. Checking if a variable contains a number or not "
   ]
  },
  {
   "cell_type": "code",
   "execution_count": 8,
   "metadata": {},
   "outputs": [
    {
     "data": {
      "text/plain": [
       "True"
      ]
     },
     "execution_count": 8,
     "metadata": {},
     "output_type": "execute_result"
    }
   ],
   "source": [
    "myword =\"44\"\n",
    "myword.isdigit()"
   ]
  },
  {
   "cell_type": "markdown",
   "metadata": {},
   "source": [
    "##### Write a program:\n",
    "Write a function which takes this string as an argument \"20 is less than 30 but greater than 11\" and print only the numbers."
   ]
  },
  {
   "cell_type": "code",
   "execution_count": 16,
   "metadata": {},
   "outputs": [],
   "source": [
    "def Number_function(String):\n",
    "    words = String.split()\n",
    "    mynewlist = [s for s in words if s.isdigit()]\n",
    "    return(mynewlist)\n"
   ]
  },
  {
   "cell_type": "code",
   "execution_count": 12,
   "metadata": {},
   "outputs": [],
   "source": [
    "val = Number_function(\"20 is less than 30 but greater than 11\")"
   ]
  },
  {
   "cell_type": "code",
   "execution_count": 14,
   "metadata": {},
   "outputs": [
    {
     "name": "stdout",
     "output_type": "stream",
     "text": [
      "['20', '30', '11']\n"
     ]
    }
   ],
   "source": [
    "print(val)"
   ]
  },
  {
   "cell_type": "markdown",
   "metadata": {},
   "source": [
    "Modify the above program in such a way that, once you have identified all the numbers from the above sentence, write another function to check if those numbers are odd or even and print them (Note: from one function you would call another function) \n",
    "Hint : The below is an example of a function calling another function "
   ]
  },
  {
   "cell_type": "code",
   "execution_count": 56,
   "metadata": {},
   "outputs": [
    {
     "name": "stdout",
     "output_type": "stream",
     "text": [
      "Inside the function getnum\n",
      "Inside the function check_oddeven\n",
      "100  can be odd or even\n"
     ]
    }
   ],
   "source": [
    "def check_oddeven(a) :\n",
    "    print(\"Inside the function check_oddeven\")\n",
    "    print(a, \" can be odd or even\")\n",
    "\n",
    "def getnum(b) :\n",
    "    print(\"Inside the function getnum\")\n",
    "    check_oddeven(b)  #From the getnum function we are now calling another function \"check_oddeven\"\n",
    "\n",
    "getnum(100) # Calling the first function only "
   ]
  },
  {
   "cell_type": "markdown",
   "metadata": {},
   "source": [
    "Q. Understanding return value"
   ]
  },
  {
   "cell_type": "code",
   "execution_count": null,
   "metadata": {},
   "outputs": [],
   "source": [
    "def findsum(a,b):\n",
    "    s=a+b\n",
    "    return(s)\n",
    "\n",
    "\n",
    "res=findsum(10,20)  # Function calling \n",
    "print(\"Sum = \",res)"
   ]
  },
  {
   "cell_type": "markdown",
   "metadata": {},
   "source": [
    "Another example of functions returning values"
   ]
  },
  {
   "cell_type": "code",
   "execution_count": null,
   "metadata": {},
   "outputs": [],
   "source": [
    "def findsum(a,b):\n",
    "    s=a+b\n",
    "    return(s)\n",
    "    print(\"Inside the findsum fucntion\")\n",
    "\n",
    "\n",
    "res=findsum(10,20)\n",
    "print(\"Sum = \",res)"
   ]
  },
  {
   "cell_type": "markdown",
   "metadata": {},
   "source": [
    "Q. What do you understand from the above code snippet using the return statement?"
   ]
  },
  {
   "cell_type": "markdown",
   "metadata": {},
   "source": []
  },
  {
   "cell_type": "markdown",
   "metadata": {},
   "source": [
    "##### Write a program:\n",
    "Write a user defined function which take a list of the following list of numbers as an argument [1,3,6,8,10,17]\n",
    "The function should return the first even number identified and the even number should be printed from the point of function call. "
   ]
  },
  {
   "cell_type": "code",
   "execution_count": 49,
   "metadata": {},
   "outputs": [],
   "source": [
    "\n",
    "def listfunction(alist):\n",
    "    count=0\n",
    "    for i in range(len(alist)):\n",
    "        if (i%2)==0:\n",
    "            count=count+1\n",
    "        if(count==2):\n",
    "            return i\n",
    "        \n",
    "list1 = [1,2,3,6,8,10,17]\n"
   ]
  },
  {
   "cell_type": "code",
   "execution_count": 50,
   "metadata": {},
   "outputs": [
    {
     "data": {
      "text/plain": [
       "2"
      ]
     },
     "execution_count": 50,
     "metadata": {},
     "output_type": "execute_result"
    }
   ],
   "source": [
    "listfunction(list1)"
   ]
  },
  {
   "cell_type": "markdown",
   "metadata": {},
   "source": [
    "##### Write a program:\n",
    "\n",
    "Develop a state machine. A state machine is something like a directed graph a->b->c->d where a, b, c and d would be a function which involves some computation. Each function can also be called as a \"node\" in a graph. \n",
    "The problem statement would be the following sequesnce of steps.  \n",
    "\n",
    "Function a : Would accept a string \"She is in her 40's but behaves as if she is a teenager who is 16!\"\n",
    "             The function should split all sentence into individual words and pass on the words to a function b\n",
    "\n",
    "Function b : Would identify only the numbers, in case of presence of any special character present along with the number,\n",
    "             then only those numbers would be sent to another functin c for a cleanup. The cleaned up numbers from \n",
    "             function b would now be sent to function d for printing the results on the screen \n",
    "\n",
    "Function c : It would extract only numbers ignoring the special character and return back numbers to the function b\n",
    "\n",
    "Function d:  Print the contents whatever is being passed on as an argument \n",
    "\n",
    "Ideally the function call graph would be something like ...\n",
    "\n",
    "Function \"a\" calling function \"b\" \n",
    "Function \"b\" calling function \"c\"\n",
    "Function \"c\" returning back to function \"b\"\n",
    "Function \"b\" finally calling function \"d\"\n",
    "Function \"d\" prints out the final results  "
   ]
  },
  {
   "cell_type": "code",
   "execution_count": 35,
   "metadata": {},
   "outputs": [
    {
     "name": "stdout",
     "output_type": "stream",
     "text": [
      "['She', 'is', 'in', 'her', '40,s', 'but', 'behaves', 'as', 'if', 'she', 'is', 'a', 'teenager', 'who', 'is', '16!']\n"
     ]
    },
    {
     "ename": "AttributeError",
     "evalue": "'list' object has no attribute 'isdigit'",
     "output_type": "error",
     "traceback": [
      "\u001b[1;31m---------------------------------------------------------------------------\u001b[0m",
      "\u001b[1;31mAttributeError\u001b[0m                            Traceback (most recent call last)",
      "\u001b[1;32m<ipython-input-35-713218efe421>\u001b[0m in \u001b[0;36m<module>\u001b[1;34m()\u001b[0m\n\u001b[0;32m     24\u001b[0m \u001b[1;33m\u001b[0m\u001b[0m\n\u001b[0;32m     25\u001b[0m \u001b[1;33m\u001b[0m\u001b[0m\n\u001b[1;32m---> 26\u001b[1;33m \u001b[0mfuncb\u001b[0m\u001b[1;33m(\u001b[0m\u001b[0mstring1\u001b[0m\u001b[1;33m)\u001b[0m\u001b[1;33m\u001b[0m\u001b[0m\n\u001b[0m",
      "\u001b[1;32m<ipython-input-35-713218efe421>\u001b[0m in \u001b[0;36mfuncb\u001b[1;34m(a)\u001b[0m\n\u001b[0;32m     17\u001b[0m     \u001b[0mlist1\u001b[0m\u001b[1;33m.\u001b[0m\u001b[0mappend\u001b[0m\u001b[1;33m(\u001b[0m\u001b[0mj\u001b[0m\u001b[1;33m)\u001b[0m\u001b[1;33m\u001b[0m\u001b[0m\n\u001b[0;32m     18\u001b[0m     \u001b[1;32mfor\u001b[0m \u001b[0mi\u001b[0m \u001b[1;32min\u001b[0m \u001b[0mlist1\u001b[0m\u001b[1;33m:\u001b[0m\u001b[1;33m\u001b[0m\u001b[0m\n\u001b[1;32m---> 19\u001b[1;33m         \u001b[1;32mif\u001b[0m \u001b[0mi\u001b[0m\u001b[1;33m.\u001b[0m\u001b[0misdigit\u001b[0m\u001b[1;33m(\u001b[0m\u001b[1;33m)\u001b[0m\u001b[1;33m:\u001b[0m\u001b[1;33m\u001b[0m\u001b[0m\n\u001b[0m\u001b[0;32m     20\u001b[0m             \u001b[0md\u001b[0m \u001b[1;33m=\u001b[0m\u001b[0mlist2\u001b[0m\u001b[1;33m.\u001b[0m\u001b[0mappend\u001b[0m\u001b[1;33m(\u001b[0m\u001b[0mi\u001b[0m\u001b[1;33m)\u001b[0m\u001b[1;33m\u001b[0m\u001b[0m\n\u001b[0;32m     21\u001b[0m             \u001b[0mprint\u001b[0m\u001b[1;33m(\u001b[0m\u001b[0md\u001b[0m\u001b[1;33m)\u001b[0m\u001b[1;33m\u001b[0m\u001b[0m\n",
      "\u001b[1;31mAttributeError\u001b[0m: 'list' object has no attribute 'isdigit'"
     ]
    }
   ],
   "source": [
    "string1 = \"She is in her 40,s but behaves as if she is a teenager who is 16!\"\n",
    "\n",
    "list1 = []\n",
    "list2 = []\n",
    "\n",
    "def funca(a):\n",
    "    u = a.split(' ')\n",
    "    \n",
    "    return u \n",
    "\n",
    "def funcc(a):\n",
    "    \n",
    "\n",
    "\n",
    "\n",
    "\n",
    "##funca(string1)\n",
    "def funcb(a):\n",
    "    \n",
    "    j = funca(a)\n",
    "    print(j)\n",
    "    \n",
    "    list1.append(j)\n",
    "    for i in list1:\n",
    "        if (i.isdigit()):\n",
    "            d =list2.append(i)\n",
    "            print(d)\n",
    "        \n",
    "    \n",
    "    \n",
    "    \n",
    "funcb(string1)"
   ]
  },
  {
   "cell_type": "markdown",
   "metadata": {},
   "source": [
    "Try to answer, how the function return graph would look like !"
   ]
  },
  {
   "cell_type": "code",
   "execution_count": null,
   "metadata": {},
   "outputs": [],
   "source": []
  },
  {
   "cell_type": "markdown",
   "metadata": {},
   "source": [
    "Q. Understanding lambda functions in Python"
   ]
  },
  {
   "cell_type": "code",
   "execution_count": 52,
   "metadata": {},
   "outputs": [
    {
     "name": "stdout",
     "output_type": "stream",
     "text": [
      "6\n"
     ]
    }
   ],
   "source": [
    "# These are basically one line function definitions in Python \n",
    "\n",
    "x = lambda a, b : a * b\n",
    "print(x(2, 3))"
   ]
  },
  {
   "cell_type": "code",
   "execution_count": 53,
   "metadata": {},
   "outputs": [
    {
     "name": "stdout",
     "output_type": "stream",
     "text": [
      "6\n"
     ]
    }
   ],
   "source": [
    "# Another example of a lambda expression in function definition \n",
    "\n",
    "x = lambda a, b, c : a + b + c\n",
    "print(x(1, 2, 3))"
   ]
  },
  {
   "cell_type": "markdown",
   "metadata": {},
   "source": [
    "Q. Understanding the filter, map and reduce built-in functions in Python "
   ]
  },
  {
   "cell_type": "code",
   "execution_count": 55,
   "metadata": {},
   "outputs": [
    {
     "name": "stdout",
     "output_type": "stream",
     "text": [
      "[10, 11, 12, 13, 14, 15, 16, 17, 18, 19, 20, 21, 22, 23, 24, 25, 26, 27, 28, 29, 30, 31, 32, 33, 34, 35, 36, 37, 38, 39, 40, 41, 42, 43, 44, 45, 46, 47, 48, 49]\n",
      "[31, 32, 33, 34, 35, 36, 37, 38, 39, 40, 41, 42, 43, 44, 45, 46, 47, 48, 49]\n"
     ]
    }
   ],
   "source": [
    "# --Understanding filter function-- \n",
    "\n",
    "num_list = range(10, 50)\n",
    "print(list(num_list))\n",
    "new_list = list(filter(lambda x: x > 30, num_list))\n",
    "print(new_list)"
   ]
  },
  {
   "cell_type": "code",
   "execution_count": 58,
   "metadata": {},
   "outputs": [
    {
     "name": "stdout",
     "output_type": "stream",
     "text": [
      "10\n"
     ]
    }
   ],
   "source": [
    "#--Understanding reduce function--\n",
    "# Reduce funtion will reduce n elements in a list into a single item \n",
    "\n",
    "from functools import reduce\n",
    "product = reduce((lambda x, y: x + y), [1, 2, 3, 4])\n",
    "print(product)"
   ]
  },
  {
   "cell_type": "markdown",
   "metadata": {},
   "source": [
    "Try running the above code by replacing x*y with x+y and see the result ! "
   ]
  },
  {
   "cell_type": "markdown",
   "metadata": {},
   "source": [
    "###### Understanding map function\n",
    "It takes 2 arguments, the function to operate on the data and the inputs on which the function works\n",
    "map(function, inputs)"
   ]
  },
  {
   "cell_type": "code",
   "execution_count": 59,
   "metadata": {},
   "outputs": [
    {
     "name": "stdout",
     "output_type": "stream",
     "text": [
      "[2, 3, 4, 5, 6]\n"
     ]
    }
   ],
   "source": [
    "def increment(a) :\n",
    "    return(a+1)\n",
    "\n",
    "data=[1,2,3,4,5]\n",
    "new_list = map(increment,data)\n",
    "print(list(new_list)) #we are explictly type casting the data in new_list to a list type to print the results. \n",
    "\n"
   ]
  },
  {
   "cell_type": "markdown",
   "metadata": {},
   "source": [
    "With respect to the following list of numbers in the given dataset answer the following questions\n",
    "\n",
    "milage_2wheelers = [45,50,43,60,56,48,10,15,20,19,60,40,40,43,50,50,65,70,75,80,13]\n"
   ]
  },
  {
   "cell_type": "markdown",
   "metadata": {},
   "source": [
    "##### Write a program to find the mean \n",
    "\n",
    "Note: mean is the average of all the numbers, sum/count of numbers, do not use the sum function to calculate the total, instead, write a custom function to find out the sum of all the numbers "
   ]
  },
  {
   "cell_type": "code",
   "execution_count": 62,
   "metadata": {},
   "outputs": [
    {
     "name": "stdout",
     "output_type": "stream",
     "text": [
      "45.333333333333336\n"
     ]
    }
   ],
   "source": [
    "def sum1(alist):\n",
    "    total = 0\n",
    "    for i in alist:\n",
    "        total=total+i\n",
    "    return total\n",
    "\n",
    "milage_2wheelers = [45,50,43,60,56,48,10,15,20,19,60,40,40,43,50,50,65,70,75,80,13]\n",
    "Sum = sum1(milage_2wheelers)\n",
    "\n",
    "Average = Sum/(len(milage_2wheelers))\n",
    "print(Average)\n"
   ]
  },
  {
   "cell_type": "markdown",
   "metadata": {},
   "source": [
    "##### Write a program to find the median\n",
    "\n",
    "Note :Median is the middle number in a sorted list (eg: 1,2,3  here the median is 2) However if we have 1,2,3,4 then \n",
    "the median will be the average of 2&3"
   ]
  },
  {
   "cell_type": "code",
   "execution_count": 69,
   "metadata": {},
   "outputs": [
    {
     "name": "stdout",
     "output_type": "stream",
     "text": [
      "10\n"
     ]
    },
    {
     "data": {
      "text/plain": [
       "48"
      ]
     },
     "execution_count": 69,
     "metadata": {},
     "output_type": "execute_result"
    }
   ],
   "source": [
    "listSort = sorted(milage_2wheelers)\n",
    "len1=len(listSort)\n",
    "Median = len1//2\n",
    "print(Median)\n",
    "listSort[Median]"
   ]
  },
  {
   "cell_type": "markdown",
   "metadata": {},
   "source": [
    "##### Write a program to find the mode\n",
    "\n",
    "Note : Mode is the number which is repeated the most. "
   ]
  },
  {
   "cell_type": "code",
   "execution_count": 84,
   "metadata": {},
   "outputs": [
    {
     "name": "stdout",
     "output_type": "stream",
     "text": [
      "{10: 1, 13: 1, 15: 1, 19: 1, 20: 1, 40: 2, 43: 2, 45: 1, 48: 1, 50: 3, 56: 1, 60: 2, 65: 1, 70: 1, 75: 1, 80: 1}\n",
      "50\n"
     ]
    }
   ],
   "source": [
    "import operator\n",
    "listSort\n",
    "d = {x:listSort.count(x) for x in listSort}\n",
    "print(d)\n",
    "\n",
    "v=list(d.values())\n",
    "k=list(d.keys())\n",
    "\n",
    "Mode =  k[v.index(max(v))]\n",
    "print(Mode)\n",
    "\n"
   ]
  }
 ],
 "metadata": {
  "kernelspec": {
   "display_name": "Python 3",
   "language": "python",
   "name": "python3"
  },
  "language_info": {
   "codemirror_mode": {
    "name": "ipython",
    "version": 3
   },
   "file_extension": ".py",
   "mimetype": "text/x-python",
   "name": "python",
   "nbconvert_exporter": "python",
   "pygments_lexer": "ipython3",
   "version": "3.7.0"
  }
 },
 "nbformat": 4,
 "nbformat_minor": 2
}
