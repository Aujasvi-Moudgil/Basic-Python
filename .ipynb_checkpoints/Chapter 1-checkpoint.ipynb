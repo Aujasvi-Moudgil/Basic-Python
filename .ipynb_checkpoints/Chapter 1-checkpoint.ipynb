{
 "cells": [
  {
   "cell_type": "markdown",
   "metadata": {},
   "source": [
    "\"\"\"\n",
    "Course : Introduction to Python\n",
    "\n",
    "@author: annworks\n",
    "\"\"\""
   ]
  },
  {
   "cell_type": "code",
   "execution_count": 1,
   "metadata": {},
   "outputs": [
    {
     "data": {
      "text/plain": [
       "'\\nwelcome to\\npython programing\\nannworks\\n'"
      ]
     },
     "execution_count": 1,
     "metadata": {},
     "output_type": "execute_result"
    }
   ],
   "source": [
    "# for single line comment\n",
    "# annwork\n",
    "\n",
    "# \"\"\" for multiline comment\n",
    "\n",
    "\"\"\"\n",
    "welcome to\n",
    "python programing\n",
    "annworks\n",
    "\"\"\""
   ]
  },
  {
   "cell_type": "markdown",
   "metadata": {},
   "source": [
    "# Variables , Multiple Assignments and Typecasting\n",
    "\n",
    "# Variables"
   ]
  },
  {
   "cell_type": "code",
   "execution_count": 1,
   "metadata": {},
   "outputs": [
    {
     "name": "stdout",
     "output_type": "stream",
     "text": [
      "annwork, welcomecome to Python coding\n",
      "annwork, welcomecome to Python coding\n"
     ]
    }
   ],
   "source": [
    "## print statement, both the below statement are true\n",
    "print(\"annwork, welcomecome to Python coding\")\n",
    "print('annwork, welcomecome to Python coding')"
   ]
  },
  {
   "cell_type": "code",
   "execution_count": 1,
   "metadata": {},
   "outputs": [
    {
     "ename": "SyntaxError",
     "evalue": "EOL while scanning string literal (<ipython-input-1-4d3a4638dbd9>, line 2)",
     "output_type": "error",
     "traceback": [
      "\u001b[1;36m  File \u001b[1;32m\"<ipython-input-1-4d3a4638dbd9>\"\u001b[1;36m, line \u001b[1;32m2\u001b[0m\n\u001b[1;33m    print('annwork, welcomecome to Python coding\")\u001b[0m\n\u001b[1;37m                                                  ^\u001b[0m\n\u001b[1;31mSyntaxError\u001b[0m\u001b[1;31m:\u001b[0m EOL while scanning string literal\n"
     ]
    }
   ],
   "source": [
    "## wrong usuage\n",
    "print('annwork, welcomecome to Python coding\")"
   ]
  },
  {
   "cell_type": "code",
   "execution_count": 1,
   "metadata": {},
   "outputs": [
    {
     "name": "stdout",
     "output_type": "stream",
     "text": [
      "annwork is an awesome place to  learn python\n",
      "44\n"
     ]
    }
   ],
   "source": [
    "## assign integer to a variable\n",
    "age = 20\n",
    "\n",
    "##assign string to a variable\n",
    "sentence = \"annwork is an awesome place to  learn python\";\n",
    "print(sentence)\n",
    "\n",
    "## find the length if a varaible\n",
    "print(len(sentence))\n",
    "\n",
    "# assign float to a variable\n",
    "height = 4.56"
   ]
  },
  {
   "cell_type": "code",
   "execution_count": 3,
   "metadata": {},
   "outputs": [
    {
     "data": {
      "text/plain": [
       "'annworks'"
      ]
     },
     "execution_count": 3,
     "metadata": {},
     "output_type": "execute_result"
    }
   ],
   "source": [
    "## concat 2 string\n",
    "\n",
    "first_nm = \"ann\"\n",
    "last_nm = \"works\"\n",
    "\n",
    "name = first_nm + last_nm\n",
    "name"
   ]
  },
  {
   "cell_type": "code",
   "execution_count": 4,
   "metadata": {},
   "outputs": [
    {
     "name": "stdout",
     "output_type": "stream",
     "text": [
      "ann works\n"
     ]
    },
    {
     "data": {
      "text/plain": [
       "str"
      ]
     },
     "execution_count": 4,
     "metadata": {},
     "output_type": "execute_result"
    }
   ],
   "source": [
    "## combine two stirng with space\n",
    "nm = first_nm +\" \"+ last_nm  # + symbol is concate and not addition\n",
    "print(nm)\n",
    "type(nm)"
   ]
  },
  {
   "cell_type": "code",
   "execution_count": 5,
   "metadata": {
    "scrolled": true
   },
   "outputs": [
    {
     "ename": "TypeError",
     "evalue": "can only concatenate str (not \"int\") to str",
     "output_type": "error",
     "traceback": [
      "\u001b[1;31m---------------------------------------------------------------------------\u001b[0m",
      "\u001b[1;31mTypeError\u001b[0m                                 Traceback (most recent call last)",
      "\u001b[1;32m<ipython-input-5-f66fe5d7f5a2>\u001b[0m in \u001b[0;36m<module>\u001b[1;34m()\u001b[0m\n\u001b[0;32m      1\u001b[0m \u001b[1;31m## adding a string and int will throw an error\u001b[0m\u001b[1;33m\u001b[0m\u001b[1;33m\u001b[0m\u001b[0m\n\u001b[1;32m----> 2\u001b[1;33m \u001b[0mfirst_nm\u001b[0m \u001b[1;33m+\u001b[0m \u001b[0mage\u001b[0m\u001b[1;33m\u001b[0m\u001b[0m\n\u001b[0m",
      "\u001b[1;31mTypeError\u001b[0m: can only concatenate str (not \"int\") to str"
     ]
    }
   ],
   "source": [
    "## adding a string and int will throw an error\n",
    "first_nm + age"
   ]
  },
  {
   "cell_type": "markdown",
   "metadata": {},
   "source": [
    "# Multiple assignment"
   ]
  },
  {
   "cell_type": "code",
   "execution_count": 7,
   "metadata": {},
   "outputs": [
    {
     "data": {
      "text/plain": [
       "6"
      ]
     },
     "execution_count": 7,
     "metadata": {},
     "output_type": "execute_result"
    }
   ],
   "source": [
    "# int\n",
    "a, b, c = 1,2,3\n",
    "out = a+b+c;\n",
    "out"
   ]
  },
  {
   "cell_type": "code",
   "execution_count": 25,
   "metadata": {},
   "outputs": [
    {
     "data": {
      "text/plain": [
       "4"
      ]
     },
     "execution_count": 25,
     "metadata": {},
     "output_type": "execute_result"
    }
   ],
   "source": [
    "## assign same values for multiple variables\n",
    "a1 = a2 = a3 = 4\n",
    "a1\n",
    "a2\n",
    "a3"
   ]
  },
  {
   "cell_type": "code",
   "execution_count": 8,
   "metadata": {},
   "outputs": [
    {
     "data": {
      "text/plain": [
       "'annworks'"
      ]
     },
     "execution_count": 8,
     "metadata": {},
     "output_type": "execute_result"
    }
   ],
   "source": [
    "#string\n",
    "fnm, lnm = \"ann\", \"works\"\n",
    "nm = fnm + lnm\n",
    "nm"
   ]
  },
  {
   "cell_type": "code",
   "execution_count": 9,
   "metadata": {},
   "outputs": [
    {
     "data": {
      "text/plain": [
       "5.35"
      ]
     },
     "execution_count": 9,
     "metadata": {},
     "output_type": "execute_result"
    }
   ],
   "source": [
    "#float\n",
    "h, l = 1.23, 4.12\n",
    "o = h+l\n",
    "o"
   ]
  },
  {
   "cell_type": "code",
   "execution_count": 11,
   "metadata": {},
   "outputs": [
    {
     "name": "stdout",
     "output_type": "stream",
     "text": [
      "True\n",
      "False\n"
     ]
    }
   ],
   "source": [
    "#boolean\n",
    "state = True\n",
    "print(state)\n",
    "\n",
    "state1 = False\n",
    "print(state1)"
   ]
  },
  {
   "cell_type": "code",
   "execution_count": 12,
   "metadata": {},
   "outputs": [
    {
     "name": "stdout",
     "output_type": "stream",
     "text": [
      "value of age:  26\n",
      "name is :  annworks\n",
      "height is :  5.14\n"
     ]
    }
   ],
   "source": [
    "##Multiple Assignment of datatype\n",
    "age, nm , height = 26, \"annworks\", 5.14\n",
    "print(\"value of age: \", age)\n",
    "print(\"name is : \", nm)\n",
    "print(\"height is : \", height)"
   ]
  },
  {
   "cell_type": "markdown",
   "metadata": {},
   "source": [
    "type function helps to identify the type of variable"
   ]
  },
  {
   "cell_type": "code",
   "execution_count": 13,
   "metadata": {},
   "outputs": [
    {
     "name": "stdout",
     "output_type": "stream",
     "text": [
      "<class 'int'>\n",
      "<class 'float'>\n",
      "<class 'str'>\n",
      "<class 'bool'>\n"
     ]
    }
   ],
   "source": [
    "print(type(age)) # int\n",
    "print(type(height)) #float\n",
    "print(type(sentence)) #string\n",
    "print(type(state)) # boolean"
   ]
  },
  {
   "cell_type": "markdown",
   "metadata": {},
   "source": [
    "# Type casting"
   ]
  },
  {
   "cell_type": "code",
   "execution_count": 14,
   "metadata": {},
   "outputs": [
    {
     "data": {
      "text/plain": [
       "1.0"
      ]
     },
     "execution_count": 14,
     "metadata": {},
     "output_type": "execute_result"
    }
   ],
   "source": [
    "# integer to float\n",
    "a = 1\n",
    "float(a)"
   ]
  },
  {
   "cell_type": "code",
   "execution_count": 15,
   "metadata": {},
   "outputs": [
    {
     "data": {
      "text/plain": [
       "1"
      ]
     },
     "execution_count": 15,
     "metadata": {},
     "output_type": "execute_result"
    }
   ],
   "source": [
    "# float to integer\n",
    "b = 1.2\n",
    "int(b)"
   ]
  },
  {
   "cell_type": "code",
   "execution_count": 16,
   "metadata": {},
   "outputs": [
    {
     "data": {
      "text/plain": [
       "'12'"
      ]
     },
     "execution_count": 16,
     "metadata": {},
     "output_type": "execute_result"
    }
   ],
   "source": [
    "# integer to string\n",
    "a = 12\n",
    "str(a)"
   ]
  },
  {
   "cell_type": "code",
   "execution_count": 17,
   "metadata": {},
   "outputs": [
    {
     "ename": "ValueError",
     "evalue": "invalid literal for int() with base 10: 'annworks'",
     "output_type": "error",
     "traceback": [
      "\u001b[1;31m---------------------------------------------------------------------------\u001b[0m",
      "\u001b[1;31mValueError\u001b[0m                                Traceback (most recent call last)",
      "\u001b[1;32m<ipython-input-17-65f566ce6f9a>\u001b[0m in \u001b[0;36m<module>\u001b[1;34m()\u001b[0m\n\u001b[0;32m      1\u001b[0m \u001b[0mss\u001b[0m \u001b[1;33m=\u001b[0m \u001b[1;34m'annworks'\u001b[0m\u001b[1;33m\u001b[0m\u001b[0m\n\u001b[1;32m----> 2\u001b[1;33m \u001b[0mint\u001b[0m\u001b[1;33m(\u001b[0m\u001b[0mss\u001b[0m\u001b[1;33m)\u001b[0m\u001b[1;33m\u001b[0m\u001b[0m\n\u001b[0m",
      "\u001b[1;31mValueError\u001b[0m: invalid literal for int() with base 10: 'annworks'"
     ]
    }
   ],
   "source": [
    "## this command will throw an error, as the string cannot be converted into intger\n",
    "ss = 'annworks'\n",
    "int(ss)"
   ]
  },
  {
   "cell_type": "markdown",
   "metadata": {},
   "source": [
    "# Arthimetic Operation"
   ]
  },
  {
   "cell_type": "code",
   "execution_count": 18,
   "metadata": {},
   "outputs": [
    {
     "name": "stdout",
     "output_type": "stream",
     "text": [
      "Addition output is 14\n"
     ]
    }
   ],
   "source": [
    "## simple addition\n",
    "length = 12\n",
    "width = 2\n",
    "\n",
    "tot = length + width\n",
    "print('Addition output is %d' %tot)"
   ]
  },
  {
   "cell_type": "code",
   "execution_count": 2,
   "metadata": {},
   "outputs": [
    {
     "name": "stdout",
     "output_type": "stream",
     "text": [
      "subtraction output is 10\n"
     ]
    }
   ],
   "source": [
    "## simple subtraction\n",
    "length = 12\n",
    "width = 2\n",
    "\n",
    "tot = length - width\n",
    "print('subtraction output is %d' %tot)\n",
    "\n",
    "## postion of the %d, place of display will be there"
   ]
  },
  {
   "cell_type": "code",
   "execution_count": 41,
   "metadata": {},
   "outputs": [
    {
     "name": "stdout",
     "output_type": "stream",
     "text": [
      "Multiplication output is : 16\n"
     ]
    }
   ],
   "source": [
    "## simple multiplication\n",
    "length = 4\n",
    "width = 4\n",
    "\n",
    "tot = length * width\n",
    "print('Multiplication output is :', tot)"
   ]
  },
  {
   "cell_type": "code",
   "execution_count": 3,
   "metadata": {},
   "outputs": [
    {
     "name": "stdout",
     "output_type": "stream",
     "text": [
      "Squared output  is : 27\n"
     ]
    }
   ],
   "source": [
    "# power\n",
    "length = 3\n",
    "width = 3\n",
    "\n",
    "tot = length ** width\n",
    "print('Squared output  is :', tot)"
   ]
  },
  {
   "cell_type": "code",
   "execution_count": 27,
   "metadata": {},
   "outputs": [
    {
     "name": "stdout",
     "output_type": "stream",
     "text": [
      "Division output is : 1.0\n"
     ]
    }
   ],
   "source": [
    "## simple Division\n",
    "length = 4\n",
    "width = 4\n",
    "\n",
    "tot = length / width\n",
    "print('Division output is :', tot)"
   ]
  },
  {
   "cell_type": "code",
   "execution_count": 44,
   "metadata": {},
   "outputs": [
    {
     "name": "stdout",
     "output_type": "stream",
     "text": [
      "Modulo output is : 3\n"
     ]
    }
   ],
   "source": [
    "## simple modulo function, give the remainder value\n",
    "length = 7\n",
    "width = 4\n",
    "\n",
    "tot = length % width\n",
    "print('Modulo output is :', tot)"
   ]
  },
  {
   "cell_type": "code",
   "execution_count": 28,
   "metadata": {},
   "outputs": [
    {
     "name": "stdout",
     "output_type": "stream",
     "text": [
      "12\n"
     ]
    }
   ],
   "source": [
    "## incremental function\n",
    "\n",
    "a = 10\n",
    "a += 2   ###     += i incremental operator,   all math operator + - * / is feasible\n",
    "print(a)"
   ]
  },
  {
   "cell_type": "code",
   "execution_count": 29,
   "metadata": {},
   "outputs": [
    {
     "name": "stdout",
     "output_type": "stream",
     "text": [
      "8\n"
     ]
    }
   ],
   "source": [
    "## decremental  function\n",
    "\n",
    "a = 10\n",
    "a -= 2   ###     += i incremental operator,   all math operator + - * / is feasible\n",
    "print(a)"
   ]
  },
  {
   "cell_type": "code",
   "execution_count": 49,
   "metadata": {},
   "outputs": [
    {
     "name": "stdout",
     "output_type": "stream",
     "text": [
      "20\n"
     ]
    }
   ],
   "source": [
    "a = 10\n",
    "a *= 2   ###     += i incremental operator,   all math operator + - * / is feasible\n",
    "print(a)"
   ]
  },
  {
   "cell_type": "code",
   "execution_count": 30,
   "metadata": {},
   "outputs": [
    {
     "name": "stdout",
     "output_type": "stream",
     "text": [
      "5.0\n"
     ]
    }
   ],
   "source": [
    "a = 10\n",
    "a /= 2   ###     += i incremental operator,   all math operator + - * / is feasible\n",
    "print(a)"
   ]
  },
  {
   "cell_type": "markdown",
   "metadata": {},
   "source": [
    "# String Operations"
   ]
  },
  {
   "cell_type": "code",
   "execution_count": 31,
   "metadata": {},
   "outputs": [
    {
     "data": {
      "text/plain": [
       "'annworks'"
      ]
     },
     "execution_count": 31,
     "metadata": {},
     "output_type": "execute_result"
    }
   ],
   "source": [
    "## add a string, output will be the concated output\n",
    "\n",
    "fnm = \"ann\"\n",
    "lnm =\"works\"\n",
    "nm = fnm + lnm\n",
    "nm\n"
   ]
  },
  {
   "cell_type": "code",
   "execution_count": 32,
   "metadata": {},
   "outputs": [
    {
     "data": {
      "text/plain": [
       "'annworksannworksannworksannworksannworks'"
      ]
     },
     "execution_count": 32,
     "metadata": {},
     "output_type": "execute_result"
    }
   ],
   "source": [
    "## repeats the string, n number of times\n",
    "nm = \"annworks\"\n",
    "nm * 5"
   ]
  },
  {
   "cell_type": "code",
   "execution_count": 55,
   "metadata": {},
   "outputs": [
    {
     "ename": "TypeError",
     "evalue": "unsupported operand type(s) for -: 'str' and 'str'",
     "output_type": "error",
     "traceback": [
      "\u001b[0;31m---------------------------------------------------------------------------\u001b[0m",
      "\u001b[0;31mTypeError\u001b[0m                                 Traceback (most recent call last)",
      "\u001b[0;32m<ipython-input-55-dab099b8fafb>\u001b[0m in \u001b[0;36m<module>\u001b[0;34m\u001b[0m\n\u001b[1;32m      2\u001b[0m \u001b[0mfnm\u001b[0m \u001b[0;34m=\u001b[0m \u001b[0;34m\"ann\"\u001b[0m\u001b[0;34m\u001b[0m\u001b[0m\n\u001b[1;32m      3\u001b[0m \u001b[0mlnm\u001b[0m \u001b[0;34m=\u001b[0m\u001b[0;34m\"works\"\u001b[0m\u001b[0;34m\u001b[0m\u001b[0m\n\u001b[0;32m----> 4\u001b[0;31m \u001b[0mnm\u001b[0m \u001b[0;34m=\u001b[0m \u001b[0mfnm\u001b[0m \u001b[0;34m-\u001b[0m \u001b[0mlnm\u001b[0m\u001b[0;34m\u001b[0m\u001b[0m\n\u001b[0m\u001b[1;32m      5\u001b[0m \u001b[0mnm\u001b[0m \u001b[0;31m# this will throw an error, string cannot be subtracted\u001b[0m\u001b[0;34m\u001b[0m\u001b[0m\n",
      "\u001b[0;31mTypeError\u001b[0m: unsupported operand type(s) for -: 'str' and 'str'"
     ]
    }
   ],
   "source": [
    "## subtract 2 string\n",
    "fnm = \"ann\"\n",
    "lnm =\"works\"\n",
    "nm = fnm - lnm\n",
    "nm # this will throw an error, string cannot be subtracted"
   ]
  },
  {
   "cell_type": "code",
   "execution_count": 35,
   "metadata": {},
   "outputs": [
    {
     "name": "stdout",
     "output_type": "stream",
     "text": [
      "annworks\n",
      "o\n",
      "ann\n",
      "annworks\n",
      "annworks\n",
      "annworks\n",
      "annwork\n",
      "\n"
     ]
    }
   ],
   "source": [
    "## Data slicing, uses index and it starts from 0\n",
    "nm = \"annworks\"\n",
    "print(nm)\n",
    "print(nm[4]) # to get the fifth character in the word\n",
    "print(nm[0:3]) #to get only first three characters\n",
    "print(nm[0:len(nm)]) # to get  all the characters\n",
    "print(nm[:len(nm)]) # picks from first character till end\n",
    "print(nm[0:]) # first to last\n",
    "print(nm[0:-1]) # remove only the last character\n",
    "print(nm[:-len(nm)]) # diplay no character"
   ]
  },
  {
   "cell_type": "markdown",
   "metadata": {},
   "source": [
    "example 1 BMI Calculator"
   ]
  },
  {
   "cell_type": "code",
   "execution_count": 36,
   "metadata": {},
   "outputs": [
    {
     "name": "stdout",
     "output_type": "stream",
     "text": [
      "BMI Value is : 23.372576177285318\n"
     ]
    },
    {
     "data": {
      "text/plain": [
       "float"
      ]
     },
     "execution_count": 36,
     "metadata": {},
     "output_type": "execute_result"
    }
   ],
   "source": [
    "# Lets use the height and weight of a person and calculate BMI of a person\n",
    "weight = 54\n",
    "height =  1.52\n",
    "BMI = weight / (height **2)\n",
    "print('BMI Value is :', BMI)\n",
    "## float or double variable\n",
    "type(BMI) # float"
   ]
  },
  {
   "cell_type": "markdown",
   "metadata": {},
   "source": [
    "example 2 caluclate simple interest"
   ]
  },
  {
   "cell_type": "code",
   "execution_count": 11,
   "metadata": {},
   "outputs": [
    {
     "name": "stdout",
     "output_type": "stream",
     "text": [
      "<class 'float'>\n",
      "28999.999999999996\n",
      "my simple interest is 28999.999999999996 INR for 8years\n",
      "my simple interest is  28999.999999999996  INR for  8 years\n",
      "my simple interest is %s for %s (28999.999999999996, 8)\n",
      "my simple interest is 28999.999999999996 for 8\n"
     ]
    }
   ],
   "source": [
    "## Simple Interest = Principal * Interest rate * term of loan\n",
    "\n",
    "## principal is  50000 INR\n",
    "# interest rat is 7.25 %\n",
    "# number of year is 8 years\n",
    "\n",
    "principal = 50000;\n",
    "interest_rate = (7.25/100);\n",
    "num_of_yrs = 8;\n",
    "simple_interest = principal*interest_rate*num_of_yrs;\n",
    "print(type(simple_interest))\n",
    "print(simple_interest )\n",
    "\n",
    "print(\"my simple interest is \" +str(simple_interest) + \" INR for \" + str(num_of_yrs) + \"years\")\n",
    "\n",
    "print(\"my simple interest is \" , simple_interest , \" INR for \" , num_of_yrs , \"years\")\n",
    "\n",
    "print(\"my simple interest is %s for %s\" , (simple_interest, num_of_yrs))\n",
    "\n",
    "print(\"my simple interest is %s for %s\"  %(simple_interest, num_of_yrs))"
   ]
  },
  {
   "cell_type": "markdown",
   "metadata": {},
   "source": [
    "Example 3, calculate area of circle"
   ]
  },
  {
   "cell_type": "code",
   "execution_count": 38,
   "metadata": {},
   "outputs": [
    {
     "name": "stdout",
     "output_type": "stream",
     "text": [
      "area of circle is : 12.56\n"
     ]
    }
   ],
   "source": [
    "# forumula area of circle = pi * r square\n",
    "\n",
    "pi = 3.14\n",
    "r = 2\n",
    "area = pi * (r**2)\n",
    "print('area of circle is :',area)"
   ]
  },
  {
   "cell_type": "code",
   "execution_count": null,
   "metadata": {},
   "outputs": [],
   "source": []
  }
 ],
 "metadata": {
  "kernelspec": {
   "display_name": "Python 3",
   "language": "python",
   "name": "python3"
  },
  "language_info": {
   "codemirror_mode": {
    "name": "ipython",
    "version": 3
   },
   "file_extension": ".py",
   "mimetype": "text/x-python",
   "name": "python",
   "nbconvert_exporter": "python",
   "pygments_lexer": "ipython3",
   "version": "3.7.0"
  }
 },
 "nbformat": 4,
 "nbformat_minor": 2
}
