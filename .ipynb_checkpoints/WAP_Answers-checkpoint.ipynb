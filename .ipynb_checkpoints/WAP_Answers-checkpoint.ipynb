{
 "cells": [
  {
   "cell_type": "code",
   "execution_count": 106,
   "metadata": {},
   "outputs": [
    {
     "name": "stdout",
     "output_type": "stream",
     "text": [
      "Enter the number :1\n",
      "0\n"
     ]
    }
   ],
   "source": [
    "while(True):\n",
    "    try:\n",
    "        a=float(input('Enter the number :'))\n",
    "        b=round(a)\n",
    "        if a > 0:\n",
    "            if a%b==0:\n",
    "                if a==1:\n",
    "                    print(0)\n",
    "                elif a==2:\n",
    "                    templist = [0,1]\n",
    "                    print(templist)\n",
    "                else:\n",
    "                    templist = [0,1]\n",
    "                    y=0\n",
    "                    while(a>2):\n",
    "                        templist.append(templist[y] + templist[y+1])\n",
    "                        y+=1\n",
    "                        a-=1\n",
    "                    print(templist)\n",
    "                break\n",
    "            else:\n",
    "                print('Please enter numbers only, no fractions\\n')\n",
    "            continue\n",
    "        else:\n",
    "            print('The number you entered is wrong, kindly enter the positive number\\n')\n",
    "    except:\n",
    "        print('Please provide numbers only\\n')"
   ]
  },
  {
   "cell_type": "code",
   "execution_count": 10,
   "metadata": {},
   "outputs": [
    {
     "name": "stdout",
     "output_type": "stream",
     "text": [
      "Enter an alphabet: A\n",
      "\n",
      "The output of the code is: \n",
      " [2, 2, 1, 1, 0]\n"
     ]
    }
   ],
   "source": [
    "templist = ['Gaurav','Ambarish', 'Debasis', 'Praveen', 'Kevin']\n",
    "while(True):\n",
    "    a= input('Enter an alphabet: ')\n",
    "    a=a.lower()\n",
    "    c=0\n",
    "    for i in a:\n",
    "        c+=1\n",
    "    if c==1:\n",
    "        list2=[]\n",
    "        for i in templist:\n",
    "            list1=[]\n",
    "            for j in i.lower():\n",
    "                count=0\n",
    "                if j==a:\n",
    "                    count+=1\n",
    "                list1.append(count)\n",
    "            list2.append((sum(list1)))\n",
    "        print('\\nThe output of the code is: \\n',list2)\n",
    "        break\n",
    "    else:\n",
    "        print('Please enter just an alphabet\\n')\n",
    "        "
   ]
  },
  {
   "cell_type": "code",
   "execution_count": 9,
   "metadata": {},
   "outputs": [
    {
     "name": "stdout",
     "output_type": "stream",
     "text": [
      "[0.0, 0.33, 0.67, 1.0]\n"
     ]
    }
   ],
   "source": [
    "#a=int(input('Enter the starting value: '))\n",
    "#b=int(input('Enter the ending value: '))\n",
    "#c=int(input('Enter the number of splits : '))\n",
    "\n",
    "def split_func(a,b,c):\n",
    "    tempc=c\n",
    "    d=((b-a)/(c-1))\n",
    "\n",
    "    while(c>0):\n",
    "        if tempc==c:\n",
    "            templist=[float(a)]\n",
    "        else:\n",
    "            templist.append(round(a+d,2))\n",
    "            a=a+d\n",
    "        c-=1\n",
    "    print(templist)\n",
    "    \n",
    "split_func(0,1,4)"
   ]
  },
  {
   "cell_type": "code",
   "execution_count": 64,
   "metadata": {},
   "outputs": [
    {
     "name": "stdout",
     "output_type": "stream",
     "text": [
      "The mode for the list is/are :  [2, 3]\n"
     ]
    }
   ],
   "source": [
    "templist=[1,2,3,6,8,5,3,2,8,3,2,1]\n",
    "\n",
    "flist = []\n",
    "for i in templist:\n",
    "    count=0\n",
    "    for j in templist:\n",
    "        if i==j:\n",
    "            count+=1\n",
    "    flist.append(count)\n",
    "\n",
    "x=0\n",
    "for i in flist:\n",
    "    if i>x:\n",
    "        x=i\n",
    "\n",
    "newlist=[]\n",
    "for i,j in zip(templist,flist):\n",
    "    if j==x:\n",
    "        newlist.append(i)\n",
    "\n",
    "print('The mode for the list is/are : ',list(set(newlist)))"
   ]
  },
  {
   "cell_type": "code",
   "execution_count": 91,
   "metadata": {},
   "outputs": [
    {
     "name": "stdout",
     "output_type": "stream",
     "text": [
      "Enter the number: 13\n",
      "[2, 3, 5, 7, 11, 13]\n"
     ]
    }
   ],
   "source": [
    "a=int(input('Enter the number: '))\n",
    "templist=[]\n",
    "for i in range(a):\n",
    "    i=i+1\n",
    "    count=0\n",
    "    for j in range(a):\n",
    "        j=j+1\n",
    "        if i%j==0:\n",
    "            count+=1\n",
    "    if count==2:\n",
    "        templist.append(i)\n",
    "print(templist)"
   ]
  },
  {
   "cell_type": "code",
   "execution_count": 111,
   "metadata": {},
   "outputs": [
    {
     "name": "stdout",
     "output_type": "stream",
     "text": [
      "Enter the damn string: Data Science is the secret sauce here. All the ideas which you see in Hollywood sci-fi movies can actually turn into reality by Data Science. Data Science is the future of Artificial Intelligence\n",
      "\n",
      "Enter the alphabet: a\n",
      "\n",
      "The number of times  a  appear in the sentence is:  15\n"
     ]
    }
   ],
   "source": [
    "a= input('Enter the damn string: ')\n",
    "a=a.lower()\n",
    "b= input('\\nEnter the alphabet: ')\n",
    "b=b.lower()\n",
    "\n",
    "count=0\n",
    "for i in a:\n",
    "    if i==b:\n",
    "        count+=1\n",
    "print('\\nThe number of times ',b,' appear in the sentence is: ',count)"
   ]
  },
  {
   "cell_type": "code",
   "execution_count": 11,
   "metadata": {},
   "outputs": [
    {
     "name": "stdout",
     "output_type": "stream",
     "text": [
      "Enter the total numbers you want to show: 6\n",
      "1\n",
      "2\n",
      "4\n",
      "5\n",
      "7\n",
      "10\n"
     ]
    }
   ],
   "source": [
    "i =int(input('Enter the total numbers you want to show: '))\n",
    "a=0\n",
    "count=0\n",
    "while(True):\n",
    "    a+=1\n",
    "    if a%8==0:\n",
    "        continue\n",
    "    elif a%3==0:\n",
    "        continue\n",
    "    else:\n",
    "        print(a)\n",
    "        count+=1\n",
    "    if count==i:\n",
    "        break"
   ]
  },
  {
   "cell_type": "code",
   "execution_count": 15,
   "metadata": {},
   "outputs": [
    {
     "name": "stdout",
     "output_type": "stream",
     "text": [
      "13\n",
      "4\n",
      "39\n",
      "16\n",
      "65\n",
      "36\n",
      "91\n",
      "64\n",
      "117\n",
      "100\n",
      "143\n",
      "144\n",
      "169\n",
      "196\n",
      "195\n",
      "256\n",
      "221\n",
      "324\n",
      "247\n",
      "400\n"
     ]
    }
   ],
   "source": [
    "a=20\n",
    "for i in range(a):\n",
    "    i+=1\n",
    "    if i%2==0:\n",
    "        print(i*i)\n",
    "    else:\n",
    "        print(i*13)"
   ]
  },
  {
   "cell_type": "code",
   "execution_count": null,
   "metadata": {},
   "outputs": [],
   "source": []
  }
 ],
 "metadata": {
  "kernelspec": {
   "display_name": "Python 3",
   "language": "python",
   "name": "python3"
  },
  "language_info": {
   "codemirror_mode": {
    "name": "ipython",
    "version": 3
   },
   "file_extension": ".py",
   "mimetype": "text/x-python",
   "name": "python",
   "nbconvert_exporter": "python",
   "pygments_lexer": "ipython3",
   "version": "3.7.0"
  }
 },
 "nbformat": 4,
 "nbformat_minor": 2
}
